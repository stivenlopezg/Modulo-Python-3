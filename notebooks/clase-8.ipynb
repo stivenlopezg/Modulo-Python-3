{
 "nbformat": 4,
 "nbformat_minor": 0,
 "metadata": {
  "colab": {
   "name": "DiplomadoClass31-25112020.ipynb",
   "provenance": []
  },
  "kernelspec": {
   "name": "python3",
   "display_name": "Python 3"
  }
 },
 "cells": [
  {
   "cell_type": "markdown",
   "metadata": {
    "id": "1U0ZWkuLqME6"
   },
   "source": [
    "# Introducción al Machine Learning\n",
    "\n",
    "En los últimos años, el aprendizaje automático se ha dado a conocer por sus grandes logros, un ejemplo de esto, es el tan conocido clasificador de *Spam*. Aunque el aprendizaje automático ha cogido mucha fuerza en los últimos años, muchos de los algoritmos ya existían desde hace mucho tiempo.\n",
    "\n",
    "Algo muy común es creer que el aprendizaje automático es Inteligencia Artificial, si bien es una rama de la inteligencia artificial, y existe una retroalimentación constante entre ML e IA, no todas las aplicaciones de ML terminan en IA.\n",
    "\n",
    "**¿Que es Machine Learning?**\n",
    "\n",
    "El Machine Learning es la ciencia (y el arte) de programar ordenadores para que aprendan a partir de los datos. Algunas definiciones:\n",
    "\n",
    "* El ML es el campo de estudio que da a los ordenadores la capacidad de aprender sin ser programados de manera explícita. (**Arthur Samuel, 1959**)\n",
    "* Se dice que un programa de ordenador aprende de la experiencia **E**, con respecto a una tarea **T** y una medida de rendimiento **R**, si su rendimiento en **T**, medido por **R**, mejora con la experiencia **E**. (**Tom Mitchell, 1997**)\n",
    "\n",
    "## Tipos de aprendizaje\n",
    "\n",
    "* Aprendizaje supervisado\n",
    "    * Clasificación.\n",
    "        * Clasificación binaria.\n",
    "        * Clasificación multiclase.\n",
    "    * Regresión.\n",
    "\n",
    "* Aprendizaje no supervisado.\n",
    "    * Clustering.\n",
    "    * Reducción de la dimensionalidad.\n",
    "    * Detección de anomalías.\n",
    "\n",
    "* Aprendizaje semi-supervisado\n",
    "* Aprendizaje por refuerzo\n",
    "\n",
    "### Aprendizaje supervisado\n",
    "\n",
    "Los algoritmos de aprendizaje supervisado están diseñados para aprender mediante ejemplos con sus respectivas respuestas. Contamos con datos de entrada, en general de forma estructurada, es decir, tenemos muchas observaciones con columnas (variables) y dentro de esos datos, existe una variable que queremos predecir. Por ejemplo, dadas ciertas características de mediciones queremos predecir si una persona tiene diabetes o no.\n",
    "\n",
    "El flujo sel aprendizaje supervisado es así:\n",
    "\n",
    "* Tomamos nuestros datos y separamos en variables independientes (predictoras) ***X***, y en una variable ***y*** que queremos predecir (variable dependiente).\n",
    "* Mostramos pares *(x, y)* a un algoritmo preparado para aprender de nuestros datos, de forma tal que crea un conjunto de reglas o asociaciones para, dada una entrada ***x***, predecir ***y***.\n",
    "* Cuando el modelo está entranado, queremos que el modelo haga una predicción sobre datos no observados.\n",
    "\n",
    "Cuando nuestra variable de interés es una categoría, significa que tenemos un problema de **clasificación**. Si nuestra variable de interés es una variable numérica continua, tenemos un problema de **regresión**.\n",
    "\n",
    "#### Regresión\n",
    "\n",
    "Wikipedia define el análisis de regresión como:\n",
    "\n",
    "En estadística, el análisis de regresión es un proceso estadístico para estimar las relaciones entre variables. Incluye muchas técnicas para el modelado y análisis de diversas variables, cuando la atención se centra en la relación entre una variable dependiente y una o más variables indepndientes (o predictoras).\n",
    "\n",
    "##### Regresión lineal simple\n",
    "\n",
    "La ecuación de una línea recta está dada por la ecuación\n",
    "\n",
    "$$y = m*x+b$$\n",
    "\n",
    "Donde $y$ es la variable dependiente, $x$ la independiente, $m$ la llamada pendiente y $b$ intercepto (o bias en Machine Learning).\n",
    "\n",
    "En el Machine Learning podemos reescribir la ecuación como:\n",
    "\n",
    "$$y=w_0+w_1x$$\n",
    "\n",
    "Siendo $w_0$ y $w_1$ los parámetros del modelo.\n",
    "\n",
    "**¿Cómo encontramos los parámetros óptimos?**\n",
    "\n",
    "Hay varios algoritmos para resolver está tarea, el más simple es usar el algoritmo de mínimos cuadrados.\n",
    "\n",
    "![Imagen tomada de /www.jmp.com](https://www.jmp.com/en_hk/statistics-knowledge-portal/what-is-multiple-regression/fitting-multiple-regression-model/_jcr_content/par/styledcontainer_2069/par/lightbox_4130/lightboxImage.img.png/1548704005203.png)"
   ]
  },
  {
   "cell_type": "code",
   "execution_count": null,
   "outputs": [],
   "source": [],
   "metadata": {
    "collapsed": false,
    "pycharm": {
     "name": "#%%\n"
    }
   }
  },
  {
   "cell_type": "markdown",
   "metadata": {
    "id": "rrQ5i6cG2rhP"
   },
   "source": [
    "##### Regresión lineal multiple\n",
    "\n",
    "A veces no es tan sencillo usar una variable como predictora para ayudar a explicar algún fénomeno. En este caso podemos usar la generalización de la regresión lineal, haciendo una extensión de la ecuación de la linea a más dimensiones:\n",
    "\n",
    "$$y=w_0+w_1x_1+w_2x_2+...+w_nx_n$$\n",
    "\n",
    "Donde $n$ será la cantidad de variables predictoras en nuestros datos y de nuevo $w_i$ será el peso del predictor $x_i$.\n",
    "\n",
    "En éstos casos ya no tendremos una línea si no un plano, o hiperplano como modelo."
   ]
  },
  {
   "cell_type": "code",
   "execution_count": null,
   "outputs": [],
   "source": [],
   "metadata": {
    "collapsed": false,
    "pycharm": {
     "name": "#%%\n"
    }
   }
  },
  {
   "cell_type": "markdown",
   "metadata": {
    "id": "MWp_uOyK_OE-"
   },
   "source": [
    "##### Vecinos más cercanos (K-NN)\n",
    "\n",
    "Es un modelo basado en una idea sencilla. Imagina que tienes una instancia (observación) de la cual quieres saber su etiqueta; entonces, simplemente lo que necesitas hacer es buscar la instancia más parecida (más cercana) que esté etiquetada y asignarle a la instancia la etiqueta de esa instancia. Es decir, la etiqueta que asigna vecinos más cercanos es la etiqueta de la instancia más parecida, lo que llamamos el vecino más cercano.\n",
    "\n",
    "**¿Cómo medimos la cercanía?**\n",
    "\n",
    "Para medir la cercanía usamos distancias, y cada observación es un punto en un espacio n-dimensional."
   ]
  },
  {
   "cell_type": "code",
   "execution_count": null,
   "outputs": [],
   "source": [],
   "metadata": {
    "collapsed": false,
    "pycharm": {
     "name": "#%%\n"
    }
   }
  },
  {
   "cell_type": "markdown",
   "metadata": {
    "id": "xU25ZgynF5L4"
   },
   "source": [
    "##### ¿Cómo medimos el desempeño de nuestro modelo?\n",
    "\n",
    "Necesitamos una medida de qué tan bien (o mal) el modelo se ajusta a los datos de entrenamiento. Esta medida de evaluación (función de costo) es el error calculado entre la recta generada $\\hat{y}$ (o el hiperplano) a los puntos reales. En el entrenamiento del modelo se encuentran los valores de $w_i$ que minimicen dicha función de costo. Entre las métricas más populares encontramos:\n",
    "\n",
    "* Error medio absoluto (MAE)\n",
    "\n",
    "$$MAE = \\frac{1}{m}\\sum_{i=1}^{m}|\\hat{y}_i -y_i|$$\n",
    "\n",
    "* Error cuadrático medio (MSE)\n",
    "\n",
    "$$MSE=\\frac{1}{m}\\sum_{i=1}^{m}\\left(\\hat{y}_i -y_i\\right)^2$$\n",
    "\n",
    "* Raíz del error cuadrático medio (RMSE)\n",
    "\n",
    "$$RMSE=\\sqrt{\\frac{1}{m}\\sum_{i=1}^{m}\\left(\\hat{y}({\\bf x})_i -y_i\\right)^2}$$"
   ]
  },
  {
   "cell_type": "code",
   "execution_count": null,
   "outputs": [],
   "source": [],
   "metadata": {
    "collapsed": false,
    "pycharm": {
     "name": "#%%\n"
    }
   }
  },
  {
   "cell_type": "markdown",
   "metadata": {
    "id": "zWz4dM2hMcen",
    "pycharm": {
     "name": "#%% md\n"
    }
   },
   "source": [
    "##### Pipeline\n",
    "\n",
    "Una secuencia de datos que procesan componentes se llama *pipeline* de datos. Los *pipelines* son muy comunes en los sistemas de machine learning, puesto que hay muchos datos que manipular y muchas transformaciones de datos que aplicar."
   ]
  },
  {
   "cell_type": "code",
   "execution_count": null,
   "outputs": [],
   "source": [
    "\n"
   ],
   "metadata": {
    "collapsed": false,
    "pycharm": {
     "name": "#%%\n"
    }
   }
  }
 ]
}
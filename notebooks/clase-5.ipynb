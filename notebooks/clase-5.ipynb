{
 "nbformat": 4,
 "nbformat_minor": 0,
 "metadata": {
  "colab": {
   "name": "DiplomadoClass26-11112020.ipynb",
   "provenance": []
  },
  "kernelspec": {
   "name": "python3",
   "display_name": "Python 3"
  }
 },
 "cells": [
  {
   "cell_type": "markdown",
   "source": [
    "Diseño de Scikit-Learn\n",
    "Estos son los principios de diseño más importantes:\n",
    "\n",
    "* Consistencia: Todos los objetos comparten una interfaz simple y consistente:\n",
    "\n",
    "  * Estimadores: Cualquier objeto que pueda estimar algunos parámetros basándose en un set de datos se llama \"estimador\" (por ejemplo, imputer es un estimador). La estimación en si la realiza el método .fit() y solo toma un conjunto de datos como parámetro (o dos para algoritmos de aprendizaje supervisado; el segundo set de datos contiene las etiquetas). Cualquier otro parámetro necesario para guiar el proceso de estimación se considera un hiperparámetro (como strategy de imputer) y debe establecerse como una variable de instancia (por lo general, mediante un parametro constructor).\n",
    "  * Transformadores: Algunos estimadores (como imputer) también pueden transformar un conjunto de datos; se denominan transformadores. De nuevo, la API es sencilla: la transformación la lleva a cabo el método .transform() con el conjunto de datos para transformar como parámetro. Devuelve el conjunto de datos transformado. Esta transformación suele depender de los parámetros aprendidos, como es el caso de imputer.\n",
    "  * Predictores: Por últimos, algunos estimadores, cuando se les da un conjunto de datos, son capaces de hacer predicciones; se llaman predictores. Por ejemplo, el modelo LinearRegression. Un predictor tiene un método .predict() que toma un conjunto de datos de observaciones nuevas y devuelve un conjunto de datos de predicciones correspondientes. También tiene un método .score() que mide la calidad de las predicciones correspondientes, dado un conjunto de prueba (y las etiquetas correspondientes, en el caso de algoritmos de aprendizaje supervisado).\n",
    "* Inspección: Todos los hiperparámetros del estimador son accesibles de forma directa mediante variables de instancia públicas (por ejemplo, imputer.strategy) y todos los parámetros aprendidos del estimador son accesibles mediante variables de instancia pública con un guion bajo como sufijo (por ejemplo, imputer.statistics_).\n",
    "\n",
    "* Composición: Los bloques de construcción existentes se reutilizan tanto como sea posible. Por ejemplo, es fácil crear un estimador Pipeline a partir de una secuencia de transformadores seguida de un estimador final, como veremos más adelante."
   ],
   "metadata": {
    "collapsed": false,
    "pycharm": {
     "name": "#%% md\n"
    }
   }
  },
  {
   "cell_type": "code",
   "execution_count": null,
   "outputs": [],
   "source": [],
   "metadata": {
    "collapsed": false,
    "pycharm": {
     "name": "#%%\n"
    }
   }
  },
  {
   "cell_type": "markdown",
   "metadata": {
    "id": "Y4tVshvfmsDV"
   },
   "source": [
    "## Imputación de datos de series de tiempo\n",
    "\n",
    "Nuevamente el método **.fillna()** nos puede ayudar en las series de tiempo, sin embargo, hay otro método de Pandas que puede ser más preciso, este es **.interpolate()**."
   ]
  },
  {
   "cell_type": "code",
   "execution_count": null,
   "outputs": [],
   "source": [],
   "metadata": {
    "collapsed": false,
    "pycharm": {
     "name": "#%%\n"
    }
   }
  },
  {
   "cell_type": "markdown",
   "metadata": {
    "id": "8p2fUrqSphCs"
   },
   "source": [
    "método **.fillna()** con el argumento *method*:\n",
    "\n",
    "* ***bfill***\n",
    "* ***ffill***\n",
    "\n",
    "Hay otro método **.interpolate()** con el argumento *method*:\n",
    "\n",
    "* ***linear***\n",
    "* ***quadratic***\n",
    "* ***nearest***\n"
   ]
  },
  {
   "cell_type": "code",
   "execution_count": null,
   "outputs": [],
   "source": [],
   "metadata": {
    "collapsed": false,
    "pycharm": {
     "name": "#%%\n"
    }
   }
  },
  {
   "cell_type": "markdown",
   "metadata": {
    "id": "0f2xizdDwycm"
   },
   "source": [
    "* Series de tiempo, podemos usar estos métodos de imputación apoyandonos de la visualización, sentido común.\n",
    "\n",
    "* Datos de corte transversal podemos imputar con la media, mediana, moda, alguna constante, pero se recomienda imputar con un modelo.\n",
    "\n",
    "## Outliers\n",
    "En estadística, un valor atípico es un punto de observación que está distante de otras observaciones.\n",
    "\n",
    "### Identificar Outlier un enfoque univariado\n",
    "* Diagrama de caja y bigotes (Boxplot).\n",
    "* Z-Score.\n",
    "* IQR Score"
   ]
  },
  {
   "cell_type": "code",
   "execution_count": null,
   "outputs": [],
   "source": [],
   "metadata": {
    "collapsed": false,
    "pycharm": {
     "name": "#%%\n"
    }
   }
  },
  {
   "cell_type": "markdown",
   "metadata": {
    "id": "kZ0RzLtsDRQZ",
    "pycharm": {
     "name": "#%% md\n"
    }
   },
   "source": [
    "## Tratamiento\n",
    "* Elimine los datos atípicos si está seguro de que son errores.\n",
    "* Impute los datos atípicos.\n",
    "* Cree variables dummy.\n",
    "* Si su objetivo es construir un modelo, usando algoritmos de ML, use modelos que sean robustos a los datos atípicos, como modelos basados en árbol."
   ]
  },
  {
   "cell_type": "code",
   "execution_count": null,
   "outputs": [],
   "source": [],
   "metadata": {
    "collapsed": false,
    "pycharm": {
     "name": "#%%\n"
    }
   }
  }
 ]
}
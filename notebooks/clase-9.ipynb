{
 "nbformat": 4,
 "nbformat_minor": 0,
 "metadata": {
  "colab": {
   "name": "DiplomadoClass32-28112020.ipynb",
   "provenance": []
  },
  "kernelspec": {
   "name": "python3",
   "display_name": "Python 3"
  }
 },
 "cells": [
  {
   "cell_type": "markdown",
   "metadata": {
    "id": "pd3tYc7TNdMC"
   },
   "source": [
    "# Introducción al Machine Learning\n",
    "\n",
    "En los últimos años, el aprendizaje automático se ha dado a conocer por sus grandes logros, un ejemplo de esto, es el tan conocido clasificador de *Spam*. Aunque el aprendizaje automático ha cogido mucha fuerza en los últimos años, muchos de los algoritmos ya existían desde hace mucho tiempo.\n",
    "\n",
    "Algo muy común es creer que el aprendizaje automático es Inteligencia Artificial, si bien es una rama de la inteligencia artificial, y existe una retroalimentación constante entre ML e IA, no todas las aplicaciones de ML terminan en IA.\n",
    "\n",
    "**¿Que es Machine Learning?**\n",
    "\n",
    "El Machine Learning es la ciencia (y el arte) de programar ordenadores para que aprendan a partir de los datos. Algunas definiciones:\n",
    "\n",
    "* El ML es el campo de estudio que da a los ordenadores la capacidad de aprender sin ser programados de manera explícita. (**Arthur Samuel, 1959**)\n",
    "* Se dice que un programa de ordenador aprende de la experiencia E, con respecto a una tarea T y una medida de rendimiento R, si su rendimiento en T, medido por R, mejora con la experiencia E. (**Tom Mitchell, 1997**)\n",
    "\n",
    "## Tipos de aprendizaje\n",
    "\n",
    "* Aprendizaje supervisado\n",
    "    * Clasificación.\n",
    "        * Clasificación binaria.\n",
    "        * Clasificación multiclase.\n",
    "    * Regresión.\n",
    "\n",
    "* Aprendizaje no supervisado.\n",
    "    * Clustering.\n",
    "    * Reducción de la dimensionalidad.\n",
    "    * Detección de anomalías.\n",
    "\n",
    "* Aprendizaje semi-supervisado\n",
    "* Aprendizaje por refuerzo\n",
    "\n",
    "### Aprendizaje supervisado\n",
    "\n",
    "Los algoritmos de aprendizaje supervisado están diseñados para aprender mediante ejemplos con sus respectivas respuestas. Contamos con datos de entrada, en general de forma estructurada, es decir, tenemos muchas observaciones con columnas (variables) y dentro de esos datos, existe una variable que queremos predecir. Por ejemplo, dadas ciertas características de mediciones queremos predecir si una persona tiene diabetes o no.\n",
    "\n",
    "El flujo sel aprendizaje supervisado es así:\n",
    "\n",
    "* Tomamos nuestros datos y separamos en variables independientes (predictoras) ***X***, y en una variable ***y*** que queremos predecir (variable dependiente).\n",
    "* Mostramos pares *(x, y)* a un algoritmo preparado para aprender de nuestros datos, de forma tal que crea un conjunto de reglas o asociaciones para, dada una entrada ***x***, predecir ***y***.\n",
    "* Cuando el modelo está entranado, queremos que el modelo haga una predicción sobre datos no observados.\n",
    "\n",
    "Cuando nuestra variable de interés es una categoría, significa que tenemos un problema de **clasificación**. Si nuestra variable de interés es una variable numérica continua, tenemos un problema de **regresión**.\n",
    "\n",
    "#### Clasificación\n",
    "\n",
    "La clasificación es una subcategoría del aprendizaje supervisado en la que el objetivo es predecir una variable objetivo categórica (discreta, valores no observados).\n",
    "\n",
    "Hay dos tipos princpales de clasificaciones:\n",
    "\n",
    "* **Clasificación binaria**: Es un tipo de clasificación en el que tan solo se pueden asignar dos clases diferentes (0 o 1). Por ejemplo, la detección de spam, en la que cada email es: spam -> en cuyo caso será etiquetado con un 1; o no lo es -> etiquetado con un 0.\n",
    "\n",
    "* **Clasificación Multi-clase**: Se pueden asignar múltiples categorías a las observaciones. Como el reconocimiento de caracteres de escritura manual de números (las clases van de 0 a 9).\n",
    "\n",
    "Una forma gráfica de ver la clasificación:\n",
    "\n",
    "![imagen tomada de medium.com](https://miro.medium.com/proxy/1*fBjniQPOKigqxYSKEumXoA.png)\n",
    "\n",
    "##### Árboles de decisión\n",
    "\n",
    "Un árbol de decisión es una estructura compuesta de nodos, ramas y hojas. Dada una instancia nueva, ésta es clasificada recorriendo el árbol de decisión: en cada nodo, el árbol hace una pregunta a la instancia sobre algunos de sus atributos. Según la respuesta a esta pregunta, deriva a la instancia por alguna de sus ramas, donde puede ocurrir que aparezca otro nodo -otra pregunta- o que termine en una hoja. La hoja contiene la etiqueta que le corresponde a esa instancia, finalizando su recorrido en el árbol.\n",
    "\n",
    "Suponga que se desea clasificar, con la menor cantidad de preguntas posibles, los siguientes cuatro animales: Águila (Hawk), Pingüino (Penguin), Delfín (Dolphin) y Oso (Bear). Tan solo haciendo tres preguntas, en dos niveles, es posible identificar a que animal corresponde. Observe el siguiente diagrama.\n",
    "\n",
    "![imagen tomada del GitHub](https://github.com/stivenlopezg/Modulo-Python-3/blob/master/imagenes/animals.png\")"
   ]
  },
  {
   "cell_type": "code",
   "execution_count": null,
   "outputs": [],
   "source": [
    "import joblib\n",
    "import warnings\n",
    "import numpy as np\n",
    "import pandas as pd\n",
    "from sklearn.impute import SimpleImputer\n",
    "from sklearn.tree import DecisionTreeClassifier\n",
    "from sklearn.ensemble import RandomForestClassifier\n",
    "from sklearn.pipeline import Pipeline, make_pipeline\n",
    "from sklearn.preprocessing import StandardScaler, OneHotEncoder\n",
    "from sklearn.compose import ColumnTransformer, make_column_transformer\n",
    "from sklearn.model_selection import train_test_split, GridSearchCV, RandomizedSearchCV\n",
    "from sklearn.metrics import classification_report, accuracy_score, precision_score, recall_score, f1_score\n",
    "\n",
    "pd.set_option('float_format', '{:.2f}'.format)\n",
    "warnings.filterwarnings(action='ignore')"
   ],
   "metadata": {
    "collapsed": false,
    "pycharm": {
     "name": "#%%\n"
    }
   }
  },
  {
   "cell_type": "code",
   "execution_count": null,
   "outputs": [],
   "source": [],
   "metadata": {
    "collapsed": false,
    "pycharm": {
     "name": "#%%\n"
    }
   }
  },
  {
   "cell_type": "markdown",
   "metadata": {
    "id": "1l22rxmsclMG"
   },
   "source": [
    "##### Random Forest\n",
    "\n",
    "El Random Forest es un método de ensamble, estos métodos unen diferentes tipos de algoritmos o el mismo algoritmo múltiples veces con el fin de crear un predictor más robusto.\n",
    "\n",
    "El Random Forest es un ensamble de árboles de decisión en el cual en el entrenamiento se realiza usando bootstraping, y la decisión final se toma con el valor más frecuente (clasificación) o el promedio (regresión) de las predicciones de cada árbol.\n",
    "\n",
    "![](http://www.globalsoftwaresupport.com/wp-content/uploads/2018/02/ggff5544hh.png)\n"
   ]
  },
  {
   "cell_type": "code",
   "execution_count": null,
   "outputs": [],
   "source": [],
   "metadata": {
    "collapsed": false,
    "pycharm": {
     "name": "#%%\n"
    }
   }
  },
  {
   "cell_type": "markdown",
   "metadata": {
    "id": "Vn_W8qRmfW-T"
   },
   "source": [
    "#### ¿Cómo medimos el desempeño de nuestro modelo?\n",
    "\n",
    "##### Matriz de confusión\n",
    "\n",
    "La matriz de confusión de un problema de ***n*** clases, es una matriz **nxn** en la que las filas se nombran según las clases reales y las columnas, según las clases previstas por el modelo.\n",
    "\n",
    "Sin embargo, hay otras formas de resumir una matriz de confusión.\n",
    "\n",
    "* **Exactitud**, mide la fracción de muestras clasificadas correctamente:\n",
    "\n",
    "$$\\text{Accuracy} = \\frac{TP + TN}{TP + TN + FP + FN}$$\n",
    "\n",
    "* **Precision**, mide cuántas de las muestras predichas como positivas son realmente positivas:\n",
    "\n",
    "$$\\text{Precision} = \\frac{TP}{TP + FP}$$\n",
    "\n",
    "La precisión se utiliza como una métrica de rendimiento cuando el objetivo es limitar el número de falsos positivos.\n",
    "\n",
    "* **Recall**, mide cuántas de las muestras positivas son capturadas por las predicciones positivas:\n",
    "\n",
    "$$\\text{Recall} = \\frac{TP}{TP + FN}$$\n",
    "\n",
    "El recall se utiliza como métrica de rendimiento cuando necesitamos identificar todas las muestras positivas; es decir, cuando es importante evitar falsos negativos.\n",
    "\n",
    "* **Puntaje F**, es la media armónica entre *Precision* y *Recall*:\n",
    "\n",
    "$$f = 2  \\frac{\\text{Precisión}*\\text{Recall}}{\\text{Precisión}+\\text{Recall}}$$"
   ]
  },
  {
   "cell_type": "code",
   "execution_count": null,
   "outputs": [],
   "source": [],
   "metadata": {
    "collapsed": false,
    "pycharm": {
     "name": "#%%\n"
    }
   }
  },
  {
   "cell_type": "markdown",
   "metadata": {
    "id": "FIDHBdfWqQYV",
    "pycharm": {
     "name": "#%% md\n"
    }
   },
   "source": [
    "### Búsqueda de los mejores hiperparametros\n",
    "\n",
    "Para hallar los mejores hiperparametros podemos usar las clases ***GridSearchCV*** o ***RandomSearchCV***."
   ]
  },
  {
   "cell_type": "code",
   "execution_count": null,
   "outputs": [],
   "source": [],
   "metadata": {
    "collapsed": false,
    "pycharm": {
     "name": "#%%\n"
    }
   }
  }
 ]
}
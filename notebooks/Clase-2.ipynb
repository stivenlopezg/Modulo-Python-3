{
  "nbformat": 4,
  "nbformat_minor": 0,
  "metadata": {
    "colab": {
      "name": "Clase_2-20210417.ipynb",
      "provenance": []
    },
    "kernelspec": {
      "name": "python3",
      "display_name": "Python 3"
    },
    "language_info": {
      "name": "python"
    }
  },
  "cells": [
    {
      "cell_type": "markdown",
      "metadata": {
        "id": "7kFVYzin4Yxb"
      },
      "source": [
        "## Operadores de comparación\n",
        "\n",
        "Los operadores de comparación, comparan dos valores y devuelve un _booleano_ que representa la relación de sus valores. Existen operadores para comparar valores numéricos, operadores para comparar cadenas y operadores para comparar objetos.\n",
        "\n",
        "* `==` El valor de la primera expresión es igual al valor de la segunda.\n",
        "* `!=` El valor de la primera expresión no es igual al valor de la segunda.\n",
        "* `>` El valor de la primera expresión es mayor al valor de la segunda.\n",
        "* `<` El valor de la primera expresión es menos al valor de la segunda.\n",
        "* `>=` El valor de la primera expresión es mayor o igual al valor de la segunda.\n",
        "* `<=` El valor de la primera expresión es menor o igual al valor de la segunda."
      ]
    },
    {
      "cell_type": "code",
      "metadata": {
        "id": "e87tTfst4N_s"
      },
      "source": [
        ""
      ],
      "execution_count": null,
      "outputs": []
    },
    {
      "cell_type": "markdown",
      "metadata": {
        "id": "LUsht34j4eFu"
      },
      "source": [
        "## Flujo de control\n",
        "\n",
        "La sentencia condicional `if` se usa para tomar decisiones, este evaluá básicamente una operación lógica, es decir una expresión que de como resultado `True` o `False`, y ejecuta la pieza de código siguiente siempre y cuando el resultado sea verdadero.\n",
        "\n",
        "La sintaxis es la siguiente:\n",
        "```\n",
        "if condicion:\n",
        "  aqui van las ordenes que se ejecutan si la condicion\n",
        "  es cierta\n",
        "```"
      ]
    },
    {
      "cell_type": "code",
      "metadata": {
        "id": "p3yCeNbE4fCu"
      },
      "source": [
        ""
      ],
      "execution_count": null,
      "outputs": []
    },
    {
      "cell_type": "markdown",
      "metadata": {
        "id": "C0jo0xzX4jly"
      },
      "source": [
        "En los flujos de control, no solo podemos usar el condicional `if`, sino que también podemos usar `elif` y `else`.\n",
        "\n",
        "La sintaxis ahora sería:\n",
        "```\n",
        "if condicion1:\n",
        "  bloque_1\n",
        "elif condicion2:\n",
        "  bloque_2\n",
        "else:\n",
        "  en caso contrario\n",
        "```"
      ]
    },
    {
      "cell_type": "code",
      "metadata": {
        "id": "-B--hjNR4kYq"
      },
      "source": [
        ""
      ],
      "execution_count": null,
      "outputs": []
    },
    {
      "cell_type": "markdown",
      "metadata": {
        "id": "JqjrmchL4qL0"
      },
      "source": [
        "## Ciclos\n",
        "\n",
        "En Python podemos usar dos tipos de ciclos: `for` y `while`. Los ciclos se utilizan cuando es necesario ejecutar un bloque de instrucciones varias veces, hasta que, o mientras que, se cumpla una condición dada.\n",
        "\n",
        "Los ciclos `for` permiten ejecutar una o varias instrucciones de forma iterativa, una vez por cada elemento en la colección.\n",
        "\n",
        "Las colecciones pueden ser de varios tipos, el `for` puede recibir una colección predefinida o directamente de la salida de una función."
      ]
    },
    {
      "cell_type": "code",
      "metadata": {
        "id": "rbMgtI9U4rEN"
      },
      "source": [
        ""
      ],
      "execution_count": null,
      "outputs": []
    },
    {
      "cell_type": "markdown",
      "metadata": {
        "id": "93fQZ5yW4wuZ"
      },
      "source": [
        "El ciclo `while` permite ejecutar un bloque de instrucciones mientras se cumpla la condición dada. Primero comprueba que en efecto se cumple la condición dada y entonces, ejecuta el segmento de código correspondiente hasta que la condición no se cumpla."
      ]
    },
    {
      "cell_type": "code",
      "metadata": {
        "id": "YE91hw_j4xpr"
      },
      "source": [
        ""
      ],
      "execution_count": null,
      "outputs": []
    },
    {
      "cell_type": "markdown",
      "metadata": {
        "id": "WsJjgr5k42Sr"
      },
      "source": [
        "## List comprehension\n",
        "\n",
        "Ofrece una sintaxis más corta cuando desea crear una nueva lista basada en los valores de una lista existente.\n",
        "\n",
        "La sintaxis es: `[expression for item in iterable if condition == True]`\n",
        "\n",
        "#### Ejemplo\n",
        "\n",
        "Tenemos la siguiente lista:\n",
        "```\n",
        "fruits = [\"apple\", \"banana\", \"cherry\", \"kiwi\", \"mango\"]\n",
        "```"
      ]
    },
    {
      "cell_type": "code",
      "metadata": {
        "id": "Z7DfuIiC43EE"
      },
      "source": [
        ""
      ],
      "execution_count": null,
      "outputs": []
    },
    {
      "cell_type": "markdown",
      "metadata": {
        "id": "ZEdOxGqq4-SY"
      },
      "source": [
        "## Funciones\n",
        "\n",
        "Una función es un bloque de código reutilizable con un nombre asociado. Las funciones reciben cero o más argumentos como entrada, y devuelve un valor y/o realiza una acción.\n",
        "\n",
        "El uso de funciones es un componente muy importante, y tiene varias ventajas:\n",
        "\n",
        "* **modularización**: permite segmentar un programa complejo en una serie de partes o módulos más simples, facilitando así la programación y el depurado.\n",
        "\n",
        "* **reutilización**: permite reutilizar una misma función en distintos programas.\n",
        "\n",
        "### Sentencia **def**\n",
        "\n",
        "La sentencia **_def_** es una definición de función usada para crear objetos **funciones definidas por el usuario**.\n",
        "\n",
        "La sintaxis es:\n",
        "\n",
        "```\n",
        "def nombre_funcion(parametros):\n",
        "  sentencia\n",
        "  return valor\n",
        "```\n",
        "\n",
        "### Argumentos y parámetros\n",
        "\n",
        "Al definir una función los valores los cuales recibe se denominan parámetros, pero durante el envío se denominan argumentos.\n",
        "\n",
        "#### Por posición\n",
        "\n",
        "Cuando enviamos argumentos a una función, estos se reciben por orden en los parámetros definidos.\n",
        "\n",
        "#### Por nombre\n",
        "\n",
        "Es posible evadir el orden de los parámetros si indica durante la llamada que valor tiene cada parámetro a partir de su nombre"
      ]
    },
    {
      "cell_type": "code",
      "metadata": {
        "id": "JW-qzkGY4_CD"
      },
      "source": [
        ""
      ],
      "execution_count": null,
      "outputs": []
    },
    {
      "cell_type": "markdown",
      "metadata": {
        "id": "CX8_7L8t5FOv"
      },
      "source": [
        "## Módulos\n",
        "\n",
        "Un archivo que contiene código Python se conoce como **_módulo_**. Un módulo Python se puede importar en otro módulo Python y/o en un Notebook. Para ello se utiliza la sentencia `import` con el nombre del módulo (exceptuando la extensión). Luego, siempre tendremos que llamar a la función que está dentro de ese módulo anteponiendo el nombre del módulo."
      ]
    },
    {
      "cell_type": "code",
      "metadata": {
        "id": "Z9cW3CHz5GDJ"
      },
      "source": [
        ""
      ],
      "execution_count": null,
      "outputs": []
    },
    {
      "cell_type": "markdown",
      "metadata": {
        "id": "73b-R9yC5KK1"
      },
      "source": [
        "### Importar selectivamente\n",
        "\n",
        "Se puede importar selectivamente utilizando la sintaxis `from`:\n",
        "\n",
        "```\n",
        "from modulo import funcionX\n",
        "```\n",
        "\n",
        "De esta manera sólo importamos `funcionX` a nuestro espacio de nombres y no tenemos acceso al resto."
      ]
    },
    {
      "cell_type": "code",
      "metadata": {
        "id": "MhTzTGKw5K2M"
      },
      "source": [
        ""
      ],
      "execution_count": null,
      "outputs": []
    },
    {
      "cell_type": "markdown",
      "metadata": {
        "id": "okrbD-Mc7Bi0"
      },
      "source": [
        "## Programación orientada a objetos\n",
        "\n",
        "La POO es un paradigma de programación. Se basa en interacciones de objetos para resolver las necesidades de un sistema informático.\n",
        "\n",
        "### Elementos de la POO\n",
        "\n",
        "Los elementos de la POO, son simplemente los materiales que necesitamos para diseñar un objeto\n",
        "\n",
        "#### Clases\n",
        "\n",
        "Las clases son los modelos sobre los cuáles se construirán nuestros objetos. Piense en una clase simplemente como una plantilla para crear objetos en Python."
      ]
    },
    {
      "cell_type": "code",
      "metadata": {
        "id": "-O9vf0bo8OSD"
      },
      "source": [
        ""
      ],
      "execution_count": null,
      "outputs": []
    },
    {
      "cell_type": "markdown",
      "metadata": {
        "id": "55b37dpC8PvI"
      },
      "source": [
        "#### Atributos\n",
        "\n",
        "Son características intrínsecas del objeto. Estás se representan en modo de variables, solo que técnicamente pasan a denominarse atributos."
      ]
    },
    {
      "cell_type": "code",
      "metadata": {
        "id": "x7QcMqTh8dsO"
      },
      "source": [
        ""
      ],
      "execution_count": null,
      "outputs": []
    },
    {
      "cell_type": "markdown",
      "metadata": {
        "id": "to3OWGlm8hDv"
      },
      "source": [
        "#### Métodos\n",
        "\n",
        "Los métodos son funciones, solo que técnicamente se denominan métodos, y representan acciones propias que puede realizar el objeto."
      ]
    },
    {
      "cell_type": "code",
      "metadata": {
        "id": "NGUnqklQ8sD_"
      },
      "source": [
        ""
      ],
      "execution_count": null,
      "outputs": []
    },
    {
      "cell_type": "markdown",
      "metadata": {
        "id": "IOPExAKD828J"
      },
      "source": [
        "#### Herencia\n",
        "\n",
        "Algunos objetos comparten los mismos atributos y métodos que otro objeto, y además agregan nuevos atributos y métodos. A esto se le denomina herencia: una clase que hereda de otra."
      ]
    },
    {
      "cell_type": "code",
      "metadata": {
        "id": "jIQd5QFj9Mr-"
      },
      "source": [
        ""
      ],
      "execution_count": null,
      "outputs": []
    }
  ]
}
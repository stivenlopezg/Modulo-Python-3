{
 "nbformat": 4,
 "nbformat_minor": 0,
 "metadata": {
  "colab": {
   "name": "DiplomadoClass26-11112020.ipynb",
   "provenance": []
  },
  "kernelspec": {
   "name": "python3",
   "display_name": "Python 3"
  }
 },
 "cells": [
  {
   "cell_type": "markdown",
   "source": [
    "## Outliers\n",
    "En estadística, un valor atípico es un punto de observación que está distante de otras observaciones.\n",
    "\n",
    "### Identificar Outlier un enfoque univariado\n",
    "* Diagrama de caja y bigotes (Boxplot).\n",
    "* Z-Score.\n",
    "* IQR Score"
   ],
   "metadata": {
    "collapsed": false,
    "pycharm": {
     "name": "#%% md\n"
    }
   }
  },
  {
   "cell_type": "code",
   "execution_count": null,
   "outputs": [],
   "source": [],
   "metadata": {
    "collapsed": false,
    "pycharm": {
     "name": "#%%\n"
    }
   }
  },
  {
   "cell_type": "markdown",
   "metadata": {
    "id": "oMNf5jNh79hX"
   },
   "source": [
    "* Z-Score\n",
    "\n",
    "* IQR"
   ]
  },
  {
   "cell_type": "code",
   "execution_count": null,
   "outputs": [],
   "source": [],
   "metadata": {
    "collapsed": false,
    "pycharm": {
     "name": "#%%\n"
    }
   }
  },
  {
   "cell_type": "markdown",
   "metadata": {
    "id": "kZ0RzLtsDRQZ",
    "pycharm": {
     "name": "#%% md\n"
    }
   },
   "source": [
    "## Tratamiento\n",
    "* Elimine los datos atípicos si está seguro de que son errores.\n",
    "* Impute los datos atípicos.\n",
    "* Cree variables dummy.\n",
    "* Si su objetivo es construir un modelo, usando algoritmos de ML, use modelos que sean robustos a los datos atípicos, como modelos basados en árbol.\n",
    "\n"
   ]
  }
 ]
}
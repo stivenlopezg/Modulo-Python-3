{
 "nbformat": 4,
 "nbformat_minor": 0,
 "metadata": {
  "colab": {
   "name": "DiplomadoPythonClass24-07112020.ipynb",
   "provenance": []
  },
  "kernelspec": {
   "name": "python3",
   "display_name": "Python 3"
  }
 },
 "cells": [
  {
   "cell_type": "markdown",
   "metadata": {
    "id": "O2HDS5vJC-79"
   },
   "source": [
    "## Carga de módulos (librerías)\n",
    "\n",
    "* La clase pasada hicimos un refresh de Pandas.\n",
    "* Hoy vamos a terminar de hacer el refresh, y comenzamos con valores missing, y posiblemente datos atípicos."
   ]
  },
  {
   "cell_type": "code",
   "execution_count": null,
   "outputs": [],
   "source": [],
   "metadata": {
    "collapsed": false,
    "pycharm": {
     "name": "#%%\n"
    }
   }
  },
  {
   "cell_type": "markdown",
   "metadata": {
    "id": "4cBOLGeHLwxh"
   },
   "source": [
    "## Trabajar con index\n",
    "Como se ha mencionado, una parte importante de los DataFrames son los index, que por lo general es un valor númerico de 0 a n-1, donde n es el número de observaciones totales en el DataFrame.\n",
    "\n",
    "Sin embargo, podemos mover una columna del cuerpo del DataFrame al índice, de la siguiente forma:\n",
    "\n",
    "* set_index(column_name)\n",
    "\n",
    "* reset_index()\n",
    "\n",
    "También puede tener varios índices, solo debemos pasar una lista sobre el método set_index(). Y para restablecer al DataFrame original,\n",
    "\n",
    "Adicional, el método reset_index() tiene un argumento drop que le permite eliminar el índice."
   ]
  },
  {
   "cell_type": "code",
   "execution_count": null,
   "outputs": [],
   "source": [],
   "metadata": {
    "collapsed": false,
    "pycharm": {
     "name": "#%%\n"
    }
   }
  },
  {
   "cell_type": "markdown",
   "metadata": {
    "id": "kIUz54k5S_Rd"
   },
   "source": [
    "## Tablas dínamicas\n",
    "Otra forma de calcular estadísticas agrupadas son las tablas dínamicas. Algunos argumentos interesantes son:\n",
    "\n",
    "* values es la columna que desea resumir.\n",
    "* index es la columna por la que desea agrupar.\n",
    "* aggfunc como se quiere agregar (por ejemplo, mediana)\n",
    "Nota:\n",
    "\n",
    "De forma predeterminada el método **.pivot_table()** toma el valor medio para cada grupo.\n",
    "Para agrupar por dos variables, podemos pasar un segundo nombre de variable al argumento columns.\n",
    "En caso de tener valores missing, podemos completarlos (imputarlos) usando el argumento *fill_value*."
   ]
  },
  {
   "cell_type": "code",
   "execution_count": null,
   "outputs": [],
   "source": [],
   "metadata": {
    "collapsed": false,
    "pycharm": {
     "name": "#%%\n"
    }
   }
  },
  {
   "cell_type": "markdown",
   "metadata": {
    "id": "yX4kANc8VBlq"
   },
   "source": [
    "## Unir datos (merge)\n",
    "En muchas ocasiones tendremos diferentes archivos planos, y para analizar lo que me interesa debo unir los diferentes archivos."
   ]
  },
  {
   "cell_type": "code",
   "execution_count": null,
   "outputs": [],
   "source": [],
   "metadata": {
    "collapsed": false,
    "pycharm": {
     "name": "#%%\n"
    }
   }
  },
  {
   "cell_type": "markdown",
   "metadata": {
    "id": "lYEnhl2OagdC"
   },
   "source": [
    "# Clase 2\n",
    "\n",
    "## Inspeccionemos los datos"
   ]
  },
  {
   "cell_type": "code",
   "execution_count": null,
   "outputs": [],
   "source": [],
   "metadata": {
    "collapsed": false,
    "pycharm": {
     "name": "#%%\n"
    }
   }
  },
  {
   "cell_type": "markdown",
   "metadata": {
    "id": "HURZflcucQ1y"
   },
   "source": [
    "## Pasos para tratar valores missing\n",
    "Convierta todos los valores missing en valores nulos. \n",
    "* En algunos casos, los valoress missing puede aparecer con valores como 999, -1, '?', entre otros.\n",
    "* Analice la cantidad y el tipo de datos que faltan.\n",
    "* Eliminar o imputar adecuadamente los datos missing.\n",
    "* Evaluar y comparar el rendimiento del conjunto de datos tratado/imputado.\n",
    "\n",
    "\n",
    "## Detectemos los valores missing\n",
    "En los casos donde encontramos valoress missing codificados con algún valor, podemos usar el argumento na_values del método .read_csv() si estamos tratando con un archivo csv."
   ]
  },
  {
   "cell_type": "code",
   "execution_count": null,
   "outputs": [],
   "source": [],
   "metadata": {
    "collapsed": false,
    "pycharm": {
     "name": "#%%\n"
    }
   }
  },
  {
   "cell_type": "markdown",
   "metadata": {
    "id": "L15pF9fkhfBz"
   },
   "source": [
    "## Cantidad de datos missing"
   ]
  },
  {
   "cell_type": "code",
   "execution_count": null,
   "outputs": [],
   "source": [],
   "metadata": {
    "collapsed": false,
    "pycharm": {
     "name": "#%%\n"
    }
   }
  },
  {
   "cell_type": "markdown",
   "metadata": {
    "id": "qzl4_mPFisZE",
    "pycharm": {
     "name": "#%% md\n"
    }
   },
   "source": [
    "## ¿Cuándo y como eliminar los datos missing?\n",
    "\n",
    "Se recomienda eliminar las columnas con más del 20% de valores missing"
   ]
  },
  {
   "cell_type": "code",
   "execution_count": null,
   "outputs": [],
   "source": [
    "\n"
   ],
   "metadata": {
    "collapsed": false,
    "pycharm": {
     "name": "#%%\n"
    }
   }
  },
  {
   "cell_type": "markdown",
   "source": [
    "## Manejo de datos faltantes\n",
    "\n",
    "Pandas tiene una método **.fillna()** que nos puede ayudar con la imptación de los valores missing."
   ],
   "metadata": {
    "collapsed": false
   }
  },
  {
   "cell_type": "code",
   "execution_count": null,
   "outputs": [],
   "source": [],
   "metadata": {
    "collapsed": false,
    "pycharm": {
     "name": "#%%\n"
    }
   }
  },
  {
   "cell_type": "markdown",
   "source": [
    "Valores para imputar:\n",
    "\n",
    "* promedio.\n",
    "* mediana.\n",
    "* moda (valor más frecuente)"
   ],
   "metadata": {
    "collapsed": false
   }
  },
  {
   "cell_type": "code",
   "execution_count": null,
   "outputs": [],
   "source": [],
   "metadata": {
    "collapsed": false,
    "pycharm": {
     "name": "#%%\n"
    }
   }
  },
  {
   "cell_type": "markdown",
   "source": [
    "Diseño de Scikit-Learn\n",
    "Estos son los principios de diseño más importantes:\n",
    "\n",
    "* Consistencia: Todos los objetos comparten una interfaz simple y consistente:\n",
    "\n",
    "  * Estimadores: Cualquier objeto que pueda estimar algunos parámetros basándose en un set de datos se llama \"estimador\" (por ejemplo, imputer es un estimador). La estimación en si la realiza el método .fit() y solo toma un conjunto de datos como parámetro (o dos para algoritmos de aprendizaje supervisado; el segundo set de datos contiene las etiquetas). Cualquier otro parámetro necesario para guiar el proceso de estimación se considera un hiperparámetro (como strategy de imputer) y debe establecerse como una variable de instancia (por lo general, mediante un parametro constructor).\n",
    "  * Transformadores: Algunos estimadores (como imputer) también pueden transformar un conjunto de datos; se denominan transformadores. De nuevo, la API es sencilla: la transformación la lleva a cabo el método .transform() con el conjunto de datos para transformar como parámetro. Devuelve el conjunto de datos transformado. Esta transformación suele depender de los parámetros aprendidos, como es el caso de imputer.\n",
    "  * Predictores: Por últimos, algunos estimadores, cuando se les da un conjunto de datos, son capaces de hacer predicciones; se llaman predictores. Por ejemplo, el modelo LinearRegression. Un predictor tiene un método .predict() que toma un conjunto de datos de observaciones nuevas y devuelve un conjunto de datos de predicciones correspondientes. También tiene un método .score() que mide la calidad de las predicciones correspondientes, dado un conjunto de prueba (y las etiquetas correspondientes, en el caso de algoritmos de aprendizaje supervisado).\n",
    "* Inspección: Todos los hiperparámetros del estimador son accesibles de forma directa mediante variables de instancia públicas (por ejemplo, imputer.strategy) y todos los parámetros aprendidos del estimador son accesibles mediante variables de instancia pública con un guion bajo como sufijo (por ejemplo, imputer.statistics_).\n",
    "\n",
    "* Composición: Los bloques de construcción existentes se reutilizan tanto como sea posible. Por ejemplo, es fácil crear un estimador Pipeline a partir de una secuencia de transformadores seguida de un estimador final, como veremos más adelante."
   ],
   "metadata": {
    "collapsed": false
   }
  }
 ]
}
{
 "nbformat": 4,
 "nbformat_minor": 0,
 "metadata": {
  "colab": {
   "name": "DiplomadoPythonClass24-07112020.ipynb",
   "provenance": []
  },
  "kernelspec": {
   "name": "python3",
   "language": "python",
   "display_name": "Python 3"
  }
 },
 "cells": [
  {
   "cell_type": "markdown",
   "metadata": {
    "id": "O2HDS5vJC-79"
   },
   "source": [
    "## Carga de módulos (librerías)\n",
    "\n",
    "* La clase pasada hicimos un refresh de Pandas.\n",
    "* Hoy vamos a terminar de hacer el refresh, y comenzamos con valores missing, y posiblemente datos atípicos."
   ]
  },
  {
   "cell_type": "code",
   "execution_count": null,
   "outputs": [],
   "source": [],
   "metadata": {
    "collapsed": false,
    "pycharm": {
     "name": "#%%\n"
    }
   }
  },
  {
   "cell_type": "markdown",
   "metadata": {
    "id": "4cBOLGeHLwxh"
   },
   "source": [
    "## Trabajar con index\n",
    "Como se ha mencionado, una parte importante de los DataFrames son los index, que por lo general es un valor númerico de 0 a n-1, donde n es el número de observaciones totales en el DataFrame.\n",
    "\n",
    "Sin embargo, podemos mover una columna del cuerpo del DataFrame al índice, de la siguiente forma:\n",
    "\n",
    "* set_index(column_name)\n",
    "\n",
    "* reset_index()\n",
    "\n",
    "También puede tener varios índices, solo debemos pasar una lista sobre el método set_index(). Y para restablecer al DataFrame original,\n",
    "\n",
    "Adicional, el método reset_index() tiene un argumento drop que le permite eliminar el índice."
   ]
  },
  {
   "cell_type": "code",
   "execution_count": null,
   "outputs": [],
   "source": [],
   "metadata": {
    "collapsed": false,
    "pycharm": {
     "name": "#%%\n"
    }
   }
  },
  {
   "cell_type": "markdown",
   "metadata": {
    "id": "kIUz54k5S_Rd"
   },
   "source": [
    "## Tablas dínamicas\n",
    "Otra forma de calcular estadísticas agrupadas son las tablas dínamicas. Algunos argumentos interesantes son:\n",
    "\n",
    "* values es la columna que desea resumir.\n",
    "* index es la columna por la que desea agrupar.\n",
    "* aggfunc como se quiere agregar (por ejemplo, mediana)\n",
    "Nota:\n",
    "\n",
    "De forma predeterminada el método **.pivot_table()** toma el valor medio para cada grupo.\n",
    "Para agrupar por dos variables, podemos pasar un segundo nombre de variable al argumento columns.\n",
    "En caso de tener valores missing, podemos completarlos (imputarlos) usando el argumento *fill_value*."
   ]
  },
  {
   "cell_type": "code",
   "execution_count": null,
   "outputs": [],
   "source": [],
   "metadata": {
    "collapsed": false,
    "pycharm": {
     "name": "#%%\n"
    }
   }
  },
  {
   "cell_type": "markdown",
   "metadata": {
    "id": "yX4kANc8VBlq"
   },
   "source": [
    "## Unir datos (merge)\n",
    "En muchas ocasiones tendremos diferentes archivos planos, y para analizar lo que me interesa debo unir los diferentes archivos."
   ]
  },
  {
   "cell_type": "code",
   "execution_count": null,
   "outputs": [],
   "source": [],
   "metadata": {
    "collapsed": false,
    "pycharm": {
     "name": "#%%\n"
    }
   }
  },
  {
   "cell_type": "markdown",
   "metadata": {
    "id": "lYEnhl2OagdC"
   },
   "source": [
    "# Clase 2\n",
    "\n",
    "## Inspeccionemos los datos"
   ]
  },
  {
   "cell_type": "code",
   "execution_count": null,
   "outputs": [],
   "source": [],
   "metadata": {
    "collapsed": false,
    "pycharm": {
     "name": "#%%\n"
    }
   }
  },
  {
   "cell_type": "markdown",
   "metadata": {
    "id": "HURZflcucQ1y"
   },
   "source": [
    "## Pasos para tratar valores missing\n",
    "Convierta todos los valores missing en valores nulos. \n",
    "* En algunos casos, los valoress missing puede aparecer con valores como 999, -1, '?', entre otros.\n",
    "* Analice la cantidad y el tipo de datos que faltan.\n",
    "* Eliminar o imputar adecuadamente los datos missing.\n",
    "* Evaluar y comparar el rendimiento del conjunto de datos tratado/imputado.\n",
    "\n",
    "\n",
    "## Detectemos los valores missing\n",
    "En los casos donde encontramos valoress missing codificados con algún valor, podemos usar el argumento na_values del método .read_csv() si estamos tratando con un archivo csv."
   ]
  },
  {
   "cell_type": "code",
   "execution_count": null,
   "outputs": [],
   "source": [],
   "metadata": {
    "collapsed": false,
    "pycharm": {
     "name": "#%%\n"
    }
   }
  },
  {
   "cell_type": "markdown",
   "metadata": {
    "id": "L15pF9fkhfBz"
   },
   "source": [
    "## Cantidad de datos missing"
   ]
  },
  {
   "cell_type": "code",
   "execution_count": null,
   "outputs": [],
   "source": [],
   "metadata": {
    "collapsed": false,
    "pycharm": {
     "name": "#%%\n"
    }
   }
  },
  {
   "cell_type": "markdown",
   "metadata": {
    "id": "qzl4_mPFisZE",
    "pycharm": {
     "name": "#%% md\n"
    }
   },
   "source": [
    "## ¿Cuándo y como eliminar los datos missing?\n",
    "\n",
    "Se recomienda eliminar las columnas con más del 20% de valores missing"
   ]
  },
  {
   "cell_type": "code",
   "execution_count": null,
   "outputs": [],
   "source": [
    "\n"
   ],
   "metadata": {
    "collapsed": false,
    "pycharm": {
     "name": "#%%\n"
    }
   }
  },
  {
   "cell_type": "markdown",
   "source": [
    "## Manejo de datos faltantes\n",
    "\n",
    "Pandas tiene una método **.fillna()** que nos puede ayudar con la imptación de los valores missing."
   ],
   "metadata": {
    "collapsed": false
   }
  },
  {
   "cell_type": "code",
   "execution_count": null,
   "outputs": [],
   "source": [],
   "metadata": {
    "collapsed": false,
    "pycharm": {
     "name": "#%%\n"
    }
   }
  },
  {
   "cell_type": "markdown",
   "source": [
    "Valores para imputar:\n",
    "\n",
    "* promedio.\n",
    "* mediana.\n",
    "* moda (valor más frecuente)"
   ],
   "metadata": {
    "collapsed": false
   }
  },
  {
   "cell_type": "code",
   "execution_count": null,
   "outputs": [],
   "source": [],
   "metadata": {
    "collapsed": false,
    "pycharm": {
     "name": "#%%\n"
    }
   }
  },
  {
   "cell_type": "markdown",
   "source": [
    "Diseño de Scikit-Learn\n",
    "Estos son los principios de diseño más importantes:\n",
    "\n",
    "* Consistencia: Todos los objetos comparten una interfaz simple y consistente:\n",
    "\n",
    "  * Estimadores: Cualquier objeto que pueda estimar algunos parámetros basándose en un set de datos se llama \"estimador\" (por ejemplo, imputer es un estimador). La estimación en si la realiza el método .fit() y solo toma un conjunto de datos como parámetro (o dos para algoritmos de aprendizaje supervisado; el segundo set de datos contiene las etiquetas). Cualquier otro parámetro necesario para guiar el proceso de estimación se considera un hiperparámetro (como strategy de imputer) y debe establecerse como una variable de instancia (por lo general, mediante un parametro constructor).\n",
    "  * Transformadores: Algunos estimadores (como imputer) también pueden transformar un conjunto de datos; se denominan transformadores. De nuevo, la API es sencilla: la transformación la lleva a cabo el método .transform() con el conjunto de datos para transformar como parámetro. Devuelve el conjunto de datos transformado. Esta transformación suele depender de los parámetros aprendidos, como es el caso de imputer.\n",
    "  * Predictores: Por últimos, algunos estimadores, cuando se les da un conjunto de datos, son capaces de hacer predicciones; se llaman predictores. Por ejemplo, el modelo LinearRegression. Un predictor tiene un método .predict() que toma un conjunto de datos de observaciones nuevas y devuelve un conjunto de datos de predicciones correspondientes. También tiene un método .score() que mide la calidad de las predicciones correspondientes, dado un conjunto de prueba (y las etiquetas correspondientes, en el caso de algoritmos de aprendizaje supervisado).\n",
    "* Inspección: Todos los hiperparámetros del estimador son accesibles de forma directa mediante variables de instancia públicas (por ejemplo, imputer.strategy) y todos los parámetros aprendidos del estimador son accesibles mediante variables de instancia pública con un guion bajo como sufijo (por ejemplo, imputer.statistics_).\n",
    "\n",
    "* Composición: Los bloques de construcción existentes se reutilizan tanto como sea posible. Por ejemplo, es fácil crear un estimador Pipeline a partir de una secuencia de transformadores seguida de un estimador final, como veremos más adelante."
   ],
   "metadata": {
    "collapsed": false
   }
  },
  {
   "cell_type": "code",
   "execution_count": 2,
   "outputs": [],
   "source": [
    "import numpy as np"
   ],
   "metadata": {
    "collapsed": false,
    "pycharm": {
     "name": "#%%\n"
    }
   }
  },
  {
   "cell_type": "code",
   "execution_count": 25,
   "outputs": [
    {
     "data": {
      "text/plain": "[907.9648276460841,\n 1039.2105134849141,\n 1050.4791630996615,\n 1133.8239412727023,\n 960.4745473196359]"
     },
     "execution_count": 25,
     "metadata": {},
     "output_type": "execute_result"
    }
   ],
   "source": [
    "data = np.random.normal(loc=1000, scale=100, size=50).tolist()\n",
    "data[:5]"
   ],
   "metadata": {
    "collapsed": false,
    "pycharm": {
     "name": "#%%\n"
    }
   }
  },
  {
   "cell_type": "code",
   "execution_count": 42,
   "outputs": [],
   "source": [
    "class StandardScaler:\n",
    "    def __init__(self, data: list):\n",
    "        self.data = data\n",
    "        self.mu = None\n",
    "        self.sd = None\n",
    "\n",
    "    def fit(self):\n",
    "        self.mu = np.mean(self.data)\n",
    "        self.sd = np.std(self.data)\n",
    "        return self\n",
    "\n",
    "    def transform(self):\n",
    "        transformed_data = [(i - self.mu)/self.sd for i in self.data]\n",
    "        return transformed_data"
   ],
   "metadata": {
    "collapsed": false,
    "pycharm": {
     "name": "#%%\n"
    }
   }
  },
  {
   "cell_type": "code",
   "execution_count": 57,
   "outputs": [],
   "source": [
    "class LinearRegression:\n",
    "    def __init__(self, X, y):\n",
    "        self.X = X\n",
    "        self.y = y\n",
    "        self.b_0 = None\n",
    "        self.b_1 = None\n",
    "\n",
    "    def fit(self):\n",
    "        self.b_1 = np.cov(np.stack((self.X, self.y), axis=0))/np.var(self.X)\n",
    "        self.b_0 = np.mean(self.y) - self.b_1 * np.mean(self.X)\n",
    "        return self\n",
    "\n",
    "    def predict(self):\n",
    "        y_hat = self.b_0 + self.b_1 * self.X\n",
    "        return y_hat"
   ],
   "metadata": {
    "collapsed": false,
    "pycharm": {
     "name": "#%%\n"
    }
   }
  },
  {
   "cell_type": "code",
   "execution_count": 58,
   "outputs": [],
   "source": [
    "X = np.random.normal(loc=1000, scale=100, size=100)\n",
    "y = 1.5 * X + np.random.normal(loc=0, scale=1, size=100)\n",
    "\n",
    "lr = LinearRegression(X=X, y=y)"
   ],
   "metadata": {
    "collapsed": false,
    "pycharm": {
     "name": "#%%\n"
    }
   }
  },
  {
   "cell_type": "code",
   "execution_count": 59,
   "outputs": [
    {
     "data": {
      "text/plain": "<__main__.LinearRegression at 0x1a8d0496280>"
     },
     "execution_count": 59,
     "metadata": {},
     "output_type": "execute_result"
    }
   ],
   "source": [
    "lr.fit()"
   ],
   "metadata": {
    "collapsed": false,
    "pycharm": {
     "name": "#%%\n"
    }
   }
  },
  {
   "cell_type": "code",
   "execution_count": 60,
   "outputs": [
    {
     "data": {
      "text/plain": "array([[1.01010101, 1.51550111],\n       [1.51550111, 2.27388471]])"
     },
     "execution_count": 60,
     "metadata": {},
     "output_type": "execute_result"
    }
   ],
   "source": [
    "lr.b_1"
   ],
   "metadata": {
    "collapsed": false,
    "pycharm": {
     "name": "#%%\n"
    }
   }
  },
  {
   "cell_type": "code",
   "execution_count": 43,
   "outputs": [],
   "source": [
    "scaler = StandardScaler(data=data)"
   ],
   "metadata": {
    "collapsed": false,
    "pycharm": {
     "name": "#%%\n"
    }
   }
  },
  {
   "cell_type": "code",
   "execution_count": 44,
   "outputs": [
    {
     "data": {
      "text/plain": "<__main__.StandardScaler at 0x1a8d0496310>"
     },
     "execution_count": 44,
     "metadata": {},
     "output_type": "execute_result"
    }
   ],
   "source": [
    "scaler.fit()"
   ],
   "metadata": {
    "collapsed": false,
    "pycharm": {
     "name": "#%%\n"
    }
   }
  },
  {
   "cell_type": "code",
   "execution_count": 45,
   "outputs": [
    {
     "name": "stdout",
     "output_type": "stream",
     "text": [
      "La media de los datos es: 1037.7426803281342\n",
      "La desviación estandar es: 94.76821781242467\n"
     ]
    }
   ],
   "source": [
    "print(f\"La media de los datos es: {scaler.mu}\")\n",
    "print(f\"La desviación estandar es: {scaler.sd}\")"
   ],
   "metadata": {
    "collapsed": false,
    "pycharm": {
     "name": "#%%\n"
    }
   }
  },
  {
   "cell_type": "code",
   "execution_count": 46,
   "outputs": [
    {
     "data": {
      "text/plain": "[907.9648276460841,\n 1039.2105134849141,\n 1050.4791630996615,\n 1133.8239412727023,\n 960.4745473196359,\n 1067.6914557783648,\n 1040.474778613891,\n 988.4708937301506,\n 958.5807673674577,\n 1045.6285534431097,\n 1200.6084554956565,\n 1101.5298750495372,\n 1025.5488659428443,\n 1003.9743118891889,\n 934.6994495705119,\n 1038.3932886952202,\n 1140.481331668384,\n 853.4241855649045,\n 1011.9272826023823,\n 1079.8528439389706,\n 947.2997019067752,\n 1154.2820297027797,\n 1110.6439039723575,\n 1286.6460552760634,\n 1247.7294643739929,\n 1038.2320494060139,\n 1088.5612486061736,\n 1106.0983412188302,\n 1117.6630248771417,\n 1180.7912583420552,\n 899.4748620069615,\n 1129.3311898710308,\n 898.6162787298473,\n 1016.812590662784,\n 1079.865673627723,\n 1010.2903278815432,\n 884.7945980986516,\n 901.4207845937071,\n 872.8324558789486,\n 1073.5376297995163,\n 984.8987001759599,\n 1078.7970760575486,\n 1060.8278843026926,\n 1004.0410956246086,\n 939.7728679198524,\n 999.3652018330343,\n 954.2030165523664,\n 1063.6245173120492,\n 1070.3369411508606,\n 1103.1039144712668]"
     },
     "execution_count": 46,
     "metadata": {},
     "output_type": "execute_result"
    }
   ],
   "source": [
    "data"
   ],
   "metadata": {
    "collapsed": false,
    "pycharm": {
     "name": "#%%\n"
    }
   }
  },
  {
   "cell_type": "code",
   "execution_count": 47,
   "outputs": [
    {
     "data": {
      "text/plain": "[-1.3694237971101255,\n 0.015488664772458633,\n 0.13439614108536616,\n 1.0138553110151591,\n -0.8153380404539795,\n 0.3160213006169267,\n 0.028829267330577845,\n -0.5199188898487839,\n -0.8353213217258354,\n 0.08321221288115914,\n 1.7185695682268034,\n 0.6730863594761,\n -0.12866987125815949,\n -0.35632587821566064,\n -1.0873184400447036,\n 0.006865259072127242,\n 1.0841044995021547,\n -1.9449399705716994,\n -0.27240564739592776,\n 0.4443490083794273,\n -0.9543598108004235,\n 1.2297303047875463,\n 0.7692581471619232,\n 2.626443555587225,\n 2.215793320725804,\n 0.005163852282716893,\n 0.5362406242420323,\n 0.721293092437307,\n 0.8433243379884419,\n 1.5094572981952457,\n -1.4590104310587226,\n 0.9664475248883372,\n -1.4680702540345396,\n -0.22085557952326573,\n 0.44448438803569335,\n -0.2896788932015955,\n -1.6139174689579334,\n -1.4384769375345836,\n -1.7401427214300198,\n 0.37771048456594664,\n -0.5576128935627837,\n 0.4332084814623573,\n 0.2435964768299341,\n -0.3556211721764285,\n -1.0337834209586387,\n -0.40496148794378084,\n -0.8815156146664942,\n 0.27310671849019175,\n 0.3439366232172954,\n 0.6896957192178343]"
     },
     "execution_count": 47,
     "metadata": {},
     "output_type": "execute_result"
    }
   ],
   "source": [
    "new_data = scaler.transform()\n",
    "new_data"
   ],
   "metadata": {
    "collapsed": false,
    "pycharm": {
     "name": "#%%\n"
    }
   }
  },
  {
   "cell_type": "code",
   "execution_count": 63,
   "outputs": [
    {
     "data": {
      "text/plain": "   Pregnant  Glucose  Diastolic_BP  Skin_Fold  Serum_Insulin   BMI  \\\n0       6.0    148.0          72.0       35.0            NaN  33.6   \n1       1.0     85.0          66.0       29.0            NaN  26.6   \n2       8.0    183.0          64.0        NaN            NaN  23.3   \n3       1.0     89.0          66.0       23.0           94.0  28.1   \n4       0.0    137.0          40.0       35.0          168.0  43.1   \n\n   Diabetes_Pedigree  Age  Class  \n0              0.627   50    1.0  \n1              0.351   31    0.0  \n2              0.672   32    1.0  \n3              0.167   21    0.0  \n4              2.288   33    1.0  ",
      "text/html": "<div>\n<style scoped>\n    .dataframe tbody tr th:only-of-type {\n        vertical-align: middle;\n    }\n\n    .dataframe tbody tr th {\n        vertical-align: top;\n    }\n\n    .dataframe thead th {\n        text-align: right;\n    }\n</style>\n<table border=\"1\" class=\"dataframe\">\n  <thead>\n    <tr style=\"text-align: right;\">\n      <th></th>\n      <th>Pregnant</th>\n      <th>Glucose</th>\n      <th>Diastolic_BP</th>\n      <th>Skin_Fold</th>\n      <th>Serum_Insulin</th>\n      <th>BMI</th>\n      <th>Diabetes_Pedigree</th>\n      <th>Age</th>\n      <th>Class</th>\n    </tr>\n  </thead>\n  <tbody>\n    <tr>\n      <th>0</th>\n      <td>6.0</td>\n      <td>148.0</td>\n      <td>72.0</td>\n      <td>35.0</td>\n      <td>NaN</td>\n      <td>33.6</td>\n      <td>0.627</td>\n      <td>50</td>\n      <td>1.0</td>\n    </tr>\n    <tr>\n      <th>1</th>\n      <td>1.0</td>\n      <td>85.0</td>\n      <td>66.0</td>\n      <td>29.0</td>\n      <td>NaN</td>\n      <td>26.6</td>\n      <td>0.351</td>\n      <td>31</td>\n      <td>0.0</td>\n    </tr>\n    <tr>\n      <th>2</th>\n      <td>8.0</td>\n      <td>183.0</td>\n      <td>64.0</td>\n      <td>NaN</td>\n      <td>NaN</td>\n      <td>23.3</td>\n      <td>0.672</td>\n      <td>32</td>\n      <td>1.0</td>\n    </tr>\n    <tr>\n      <th>3</th>\n      <td>1.0</td>\n      <td>89.0</td>\n      <td>66.0</td>\n      <td>23.0</td>\n      <td>94.0</td>\n      <td>28.1</td>\n      <td>0.167</td>\n      <td>21</td>\n      <td>0.0</td>\n    </tr>\n    <tr>\n      <th>4</th>\n      <td>0.0</td>\n      <td>137.0</td>\n      <td>40.0</td>\n      <td>35.0</td>\n      <td>168.0</td>\n      <td>43.1</td>\n      <td>2.288</td>\n      <td>33</td>\n      <td>1.0</td>\n    </tr>\n  </tbody>\n</table>\n</div>"
     },
     "execution_count": 63,
     "metadata": {},
     "output_type": "execute_result"
    }
   ],
   "source": [
    "import pandas as pd\n",
    "import missingno as msno\n",
    "from sklearn.impute import SimpleImputer\n",
    "\n",
    "diabetes = pd.read_csv(\"https://raw.githubusercontent.com/stivenlopezg/Modulo-Python-3/master/data/pima-indians-diabetes%20data.csv\")\n",
    "diabetes.head()"
   ],
   "metadata": {
    "collapsed": false,
    "pycharm": {
     "name": "#%%\n"
    }
   }
  },
  {
   "cell_type": "code",
   "execution_count": 64,
   "outputs": [
    {
     "data": {
      "text/plain": "<AxesSubplot:>"
     },
     "execution_count": 64,
     "metadata": {},
     "output_type": "execute_result"
    },
    {
     "data": {
      "text/plain": "<Figure size 1728x720 with 3 Axes>",
      "image/png": "[encoded data removed]"
     },
     "metadata": {
      "needs_background": "light"
     },
     "output_type": "display_data"
    }
   ],
   "source": [
    "msno.bar(df=diabetes)"
   ],
   "metadata": {
    "collapsed": false,
    "pycharm": {
     "name": "#%%\n"
    }
   }
  },
  {
   "cell_type": "code",
   "execution_count": 65,
   "outputs": [
    {
     "data": {
      "text/plain": "SimpleImputer(strategy='median')"
     },
     "execution_count": 65,
     "metadata": {},
     "output_type": "execute_result"
    }
   ],
   "source": [
    "imputer = SimpleImputer(strategy='median')\n",
    "\n",
    "imputer.fit(diabetes.drop(\"Class\", axis=1))"
   ],
   "metadata": {
    "collapsed": false,
    "pycharm": {
     "name": "#%%\n"
    }
   }
  },
  {
   "cell_type": "code",
   "execution_count": 66,
   "outputs": [
    {
     "data": {
      "text/plain": "array([  3.    , 117.    ,  72.    ,  29.    , 125.    ,  32.3   ,\n         0.3725,  29.    ])"
     },
     "execution_count": 66,
     "metadata": {},
     "output_type": "execute_result"
    }
   ],
   "source": [
    "imputer.statistics_"
   ],
   "metadata": {
    "collapsed": false,
    "pycharm": {
     "name": "#%%\n"
    }
   }
  },
  {
   "cell_type": "code",
   "execution_count": 67,
   "outputs": [
    {
     "data": {
      "text/plain": "3.0"
     },
     "execution_count": 67,
     "metadata": {},
     "output_type": "execute_result"
    }
   ],
   "source": [
    "diabetes[\"Pregnant\"].median()"
   ],
   "metadata": {
    "collapsed": false,
    "pycharm": {
     "name": "#%%\n"
    }
   }
  },
  {
   "cell_type": "code",
   "execution_count": null,
   "outputs": [],
   "source": [],
   "metadata": {
    "collapsed": false,
    "pycharm": {
     "name": "#%%\n"
    }
   }
  }
 ]
}
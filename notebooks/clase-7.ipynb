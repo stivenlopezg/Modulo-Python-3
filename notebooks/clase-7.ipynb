{
 "nbformat": 4,
 "nbformat_minor": 0,
 "metadata": {
  "colab": {
   "name": "DiplomadoClass27-14112020.ipynb",
   "provenance": [],
   "collapsed_sections": []
  },
  "kernelspec": {
   "name": "python3",
   "display_name": "Python 3"
  }
 },
 "cells": [
  {
   "cell_type": "markdown",
   "metadata": {
    "id": "LpsX0m7nPvrO"
   },
   "source": [
    "## Visualización\n",
    "\n",
    "## Trazemos gráficos univariados\n",
    "Cuando hacemos un análisis exploratorio, una de las primeras cosas que hacemos es explorarar cada variable de manera individual en el set de datos.\n",
    "\n",
    "Para las variables númericas es muy común ver la distribución, por ejemplo, gráficando histogramas, boxplot, estimación de densidad del kernel. Por otro lado, para una variable categórica se usan gráficos de barras.\n",
    "\n",
    "Hay varios métodos para hacerlo con seaborn:\n",
    "\n",
    "* sns.countplot() (gráficos de barras)\n",
    "* sns.distplot() (histogramas y estimación de la densidad del kernel)\n",
    "* sns.boxplot() (boxplot)"
   ]
  },
  {
   "cell_type": "code",
   "metadata": {
    "id": "Pim9jbWoPcI0",
    "colab": {
     "base_uri": "https://localhost:8080/",
     "height": 191
    },
    "outputId": "90fe905d-ed88-442d-9460-0f77a3ee0ba0"
   },
   "source": [],
   "execution_count": null,
   "outputs": [
    {
     "output_type": "execute_result",
     "data": {
      "text/html": [
       "<div>\n",
       "<style scoped>\n",
       "    .dataframe tbody tr th:only-of-type {\n",
       "        vertical-align: middle;\n",
       "    }\n",
       "\n",
       "    .dataframe tbody tr th {\n",
       "        vertical-align: top;\n",
       "    }\n",
       "\n",
       "    .dataframe thead th {\n",
       "        text-align: right;\n",
       "    }\n",
       "</style>\n",
       "<table border=\"1\" class=\"dataframe\">\n",
       "  <thead>\n",
       "    <tr style=\"text-align: right;\">\n",
       "      <th></th>\n",
       "      <th>school</th>\n",
       "      <th>sex</th>\n",
       "      <th>age</th>\n",
       "      <th>famsize</th>\n",
       "      <th>Pstatus</th>\n",
       "      <th>Medu</th>\n",
       "      <th>Fedu</th>\n",
       "      <th>traveltime</th>\n",
       "      <th>failures</th>\n",
       "      <th>schoolsup</th>\n",
       "      <th>famsup</th>\n",
       "      <th>paid</th>\n",
       "      <th>activities</th>\n",
       "      <th>nursery</th>\n",
       "      <th>higher</th>\n",
       "      <th>internet</th>\n",
       "      <th>romantic</th>\n",
       "      <th>famrel</th>\n",
       "      <th>freetime</th>\n",
       "      <th>goout</th>\n",
       "      <th>Dalc</th>\n",
       "      <th>Walc</th>\n",
       "      <th>health</th>\n",
       "      <th>absences</th>\n",
       "      <th>G1</th>\n",
       "      <th>G2</th>\n",
       "      <th>G3</th>\n",
       "      <th>location</th>\n",
       "      <th>study_time</th>\n",
       "    </tr>\n",
       "  </thead>\n",
       "  <tbody>\n",
       "    <tr>\n",
       "      <th>225</th>\n",
       "      <td>GP</td>\n",
       "      <td>F</td>\n",
       "      <td>18</td>\n",
       "      <td>GT3</td>\n",
       "      <td>T</td>\n",
       "      <td>3</td>\n",
       "      <td>1</td>\n",
       "      <td>1</td>\n",
       "      <td>1</td>\n",
       "      <td>no</td>\n",
       "      <td>no</td>\n",
       "      <td>no</td>\n",
       "      <td>yes</td>\n",
       "      <td>yes</td>\n",
       "      <td>yes</td>\n",
       "      <td>yes</td>\n",
       "      <td>yes</td>\n",
       "      <td>5</td>\n",
       "      <td>3</td>\n",
       "      <td>3</td>\n",
       "      <td>1</td>\n",
       "      <td>1</td>\n",
       "      <td>4</td>\n",
       "      <td>16</td>\n",
       "      <td>9</td>\n",
       "      <td>8</td>\n",
       "      <td>7</td>\n",
       "      <td>Rural</td>\n",
       "      <td>2 to 5 hours</td>\n",
       "    </tr>\n",
       "    <tr>\n",
       "      <th>54</th>\n",
       "      <td>GP</td>\n",
       "      <td>F</td>\n",
       "      <td>15</td>\n",
       "      <td>LE3</td>\n",
       "      <td>A</td>\n",
       "      <td>3</td>\n",
       "      <td>3</td>\n",
       "      <td>1</td>\n",
       "      <td>0</td>\n",
       "      <td>no</td>\n",
       "      <td>no</td>\n",
       "      <td>yes</td>\n",
       "      <td>no</td>\n",
       "      <td>yes</td>\n",
       "      <td>yes</td>\n",
       "      <td>yes</td>\n",
       "      <td>no</td>\n",
       "      <td>5</td>\n",
       "      <td>3</td>\n",
       "      <td>4</td>\n",
       "      <td>4</td>\n",
       "      <td>4</td>\n",
       "      <td>1</td>\n",
       "      <td>6</td>\n",
       "      <td>10</td>\n",
       "      <td>13</td>\n",
       "      <td>13</td>\n",
       "      <td>Urban</td>\n",
       "      <td>&lt;2 hours</td>\n",
       "    </tr>\n",
       "    <tr>\n",
       "      <th>12</th>\n",
       "      <td>GP</td>\n",
       "      <td>M</td>\n",
       "      <td>15</td>\n",
       "      <td>LE3</td>\n",
       "      <td>T</td>\n",
       "      <td>4</td>\n",
       "      <td>4</td>\n",
       "      <td>1</td>\n",
       "      <td>0</td>\n",
       "      <td>no</td>\n",
       "      <td>yes</td>\n",
       "      <td>yes</td>\n",
       "      <td>yes</td>\n",
       "      <td>yes</td>\n",
       "      <td>yes</td>\n",
       "      <td>yes</td>\n",
       "      <td>no</td>\n",
       "      <td>4</td>\n",
       "      <td>3</td>\n",
       "      <td>3</td>\n",
       "      <td>1</td>\n",
       "      <td>3</td>\n",
       "      <td>5</td>\n",
       "      <td>2</td>\n",
       "      <td>14</td>\n",
       "      <td>14</td>\n",
       "      <td>14</td>\n",
       "      <td>Urban</td>\n",
       "      <td>&lt;2 hours</td>\n",
       "    </tr>\n",
       "    <tr>\n",
       "      <th>214</th>\n",
       "      <td>GP</td>\n",
       "      <td>F</td>\n",
       "      <td>17</td>\n",
       "      <td>LE3</td>\n",
       "      <td>T</td>\n",
       "      <td>4</td>\n",
       "      <td>4</td>\n",
       "      <td>1</td>\n",
       "      <td>0</td>\n",
       "      <td>no</td>\n",
       "      <td>yes</td>\n",
       "      <td>yes</td>\n",
       "      <td>no</td>\n",
       "      <td>yes</td>\n",
       "      <td>yes</td>\n",
       "      <td>no</td>\n",
       "      <td>no</td>\n",
       "      <td>5</td>\n",
       "      <td>2</td>\n",
       "      <td>1</td>\n",
       "      <td>1</td>\n",
       "      <td>2</td>\n",
       "      <td>3</td>\n",
       "      <td>12</td>\n",
       "      <td>8</td>\n",
       "      <td>10</td>\n",
       "      <td>10</td>\n",
       "      <td>Rural</td>\n",
       "      <td>&lt;2 hours</td>\n",
       "    </tr>\n",
       "  </tbody>\n",
       "</table>\n",
       "</div>"
      ],
      "text/plain": [
       "    school sex  age famsize Pstatus  ...  G1  G2  G3  location    study_time\n",
       "225     GP   F   18     GT3       T  ...   9   8   7     Rural  2 to 5 hours\n",
       "54      GP   F   15     LE3       A  ...  10  13  13     Urban      <2 hours\n",
       "12      GP   M   15     LE3       T  ...  14  14  14     Urban      <2 hours\n",
       "214     GP   F   17     LE3       T  ...   8  10  10     Rural      <2 hours\n",
       "\n",
       "[4 rows x 29 columns]"
      ]
     },
     "metadata": {
      "tags": []
     },
     "execution_count": 26
    }
   ]
  },
  {
   "cell_type": "markdown",
   "metadata": {
    "id": "lIuQbjogSRVd"
   },
   "source": [
    "school - student's school (binary: 'GP' - Gabriel Pereira or 'MS' - Mousinho da Silveira)\n",
    "sex - student's sex (binary: 'F' - female or 'M' - male)\n",
    "age - student's age (numeric: from 15 to 22)\n",
    "address - student's home address type (binary: 'U' - urban or 'R' - rural)\n",
    "famsize - family size (binary: 'LE3' - less or equal to 3 or 'GT3' - greater than 3)\n",
    "Pstatus - parent's cohabitation status (binary: 'T' - living together or 'A' - apart)\n",
    "Medu - mother's education (numeric: 0 - none, 1 - primary education (4th grade), 2 – 5th to 9th grade, 3 – secondary education or 4 – higher education)\n",
    "Fedu - father's education (numeric: 0 - none, 1 - primary education (4th grade), 2 – 5th to 9th grade, 3 – secondary education or 4 – higher education)\n",
    "Mjob - mother's job (nominal: 'teacher', 'health' care related, civil 'services' (e.g. administrative or police), 'at_home' or 'other')\n",
    "Fjob - father's job (nominal: 'teacher', 'health' care related, civil 'services' (e.g. administrative or police), 'at_home' or 'other')\n",
    "reason - reason to choose this school (nominal: close to 'home', school 'reputation', 'course' preference or 'other')\n",
    "guardian - student's guardian (nominal: 'mother', 'father' or 'other')\n",
    "traveltime - home to school travel time (numeric: 1 - 1 hour)\n",
    "studytime - weekly study time (numeric: 1 - 10 hours)\n"
   ]
  },
  {
   "cell_type": "markdown",
   "metadata": {
    "id": "hj3YKEO6SYg9"
   },
   "source": [
    "failures - number of past class failures (numeric: n if 1<=n<3, else 4)\n",
    "schoolsup - extra educational support (binary: yes or no)\n",
    "famsup - family educational support (binary: yes or no)\n",
    "paid - extra paid classes within the course subject (Math or Portuguese) (binary: yes or no)\n",
    "activities - extra-curricular activities (binary: yes or no)\n",
    "nursery - attended nursery school (binary: yes or no)\n",
    "higher - wants to take higher education (binary: yes or no)\n",
    "internet - Internet access at home (binary: yes or no)\n",
    "romantic - with a romantic relationship (binary: yes or no)\n",
    "famrel - quality of family relationships (numeric: from 1 - very bad to 5 - excellent)\n",
    "freetime - free time after school (numeric: from 1 - very low to 5 - very high)\n",
    "goout - going out with friends (numeric: from 1 - very low to 5 - very high)\n",
    "Dalc - workday alcohol consumption (numeric: from 1 - very low to 5 - very high)\n",
    "Walc - weekend alcohol consumption (numeric: from 1 - very low to 5 - very high)\n",
    "health - current health status (numeric: from 1 - very bad to 5 - very good)\n",
    "absences - number of school absences (numeric: from 0 to 93)\n",
    "These grades are related with the course subject, Math or Portuguese:\n",
    "\n",
    "G1 - first period grade (numeric: from 0 to 20)\n",
    "G2 - second period grade (numeric: from 0 to 20)\n",
    "G3 - final grade (numeric: from 0 to 20, output target)"
   ]
  },
  {
   "cell_type": "markdown",
   "metadata": {
    "id": "5qfEm6xzSglM"
   },
   "source": [
    "## Análisis exploratorio\n",
    "\n",
    "* Análisis aclaratorio (explicativo).\n",
    "* Análisis exploratorio.\n",
    "\n",
    "## Univariado\n",
    "\n",
    "Variables númericas:\n",
    "\n",
    "* Histogramas.\n",
    "* Boxplot.\n",
    "* ECDF.\n",
    "\n",
    "Variables categóricas:\n",
    "\n",
    "* Gráficos de barras."
   ]
  },
  {
   "cell_type": "markdown",
   "source": [
    "### Gráficos de barras"
   ],
   "metadata": {
    "collapsed": false
   }
  },
  {
   "cell_type": "code",
   "execution_count": null,
   "outputs": [],
   "source": [],
   "metadata": {
    "collapsed": false,
    "pycharm": {
     "name": "#%%\n"
    }
   }
  },
  {
   "cell_type": "markdown",
   "metadata": {
    "id": "MeUv3cxNgkFZ"
   },
   "source": [
    "### Histogramas"
   ]
  },
  {
   "cell_type": "code",
   "execution_count": null,
   "outputs": [],
   "source": [],
   "metadata": {
    "collapsed": false,
    "pycharm": {
     "name": "#%%\n"
    }
   }
  },
  {
   "cell_type": "markdown",
   "metadata": {
    "id": "3Lom0FTdjTjI"
   },
   "source": [
    "## Gráficos bivariados\n",
    "Los gráficos univariados nos dan mucha información, sin embargo, no podemos observar relaciones con respecto a otras variables. Así las cosas, gráficos bivariados son aún más informativos, sobretodo para mostrar análisis o incluso construir un modelo.\n",
    "\n",
    "Dado que hay diferentes tipos de variables, se recomiendan algunos gráficos para ver relaciones entre las variables:\n",
    "\n",
    "### Continuo vs Continuo\n",
    "* gráfico de dispersión (scatterplot).\n",
    "* matriz de correlación.\n",
    "\n",
    "### Categórica vs Continua\n",
    "* boxplot.\n",
    "* gráfico de violín.\n",
    "* histogramas superpuestos (se recomienda si la variable categórica tiene 3 o menos categorías)\n",
    "\n",
    "### Categórica vs Categórica\n",
    "* heatmap de la tabla de contingencia.\n",
    "* gráficos de barras apiladas.\n",
    "\n",
    "\n",
    "#### Gráficos de dispersión"
   ]
  },
  {
   "cell_type": "code",
   "execution_count": null,
   "outputs": [],
   "source": [],
   "metadata": {
    "collapsed": false,
    "pycharm": {
     "name": "#%%\n"
    }
   }
  },
  {
   "cell_type": "markdown",
   "metadata": {
    "id": "w21LH-H4pHVe",
    "pycharm": {
     "name": "#%% md\n"
    }
   },
   "source": [
    "## Matriz de correlación\n"
   ]
  },
  {
   "cell_type": "code",
   "execution_count": null,
   "outputs": [],
   "source": [],
   "metadata": {
    "collapsed": false,
    "pycharm": {
     "name": "#%%\n"
    }
   }
  },
  {
   "cell_type": "markdown",
   "source": [
    "\n",
    "* **vmin**: valor mínimo de la barra.\n",
    "* **vmax**: valor máximo de la barra.\n",
    "* **center**: valor en el centro."
   ],
   "metadata": {
    "collapsed": false,
    "pycharm": {
     "name": "#%% md\n"
    }
   }
  },
  {
   "cell_type": "code",
   "execution_count": null,
   "outputs": [],
   "source": [],
   "metadata": {
    "collapsed": false,
    "pycharm": {
     "name": "#%%\n"
    }
   }
  },
  {
   "cell_type": "markdown",
   "source": [
    "* cmap: paleta de colores (cambio color del gráfico)"
   ],
   "metadata": {
    "collapsed": false,
    "pycharm": {
     "name": "#%% md\n"
    }
   }
  },
  {
   "cell_type": "code",
   "execution_count": null,
   "outputs": [],
   "source": [
    "\n"
   ],
   "metadata": {
    "collapsed": false,
    "pycharm": {
     "name": "#%%\n"
    }
   }
  },
  {
   "cell_type": "markdown",
   "source": [
    "A nosotros nos interesa manipular los bordes y los colores de esos bordes.\n",
    "\n",
    "* **linecolor**: color del borde\n",
    "* **linewidths**: grosor del borde"
   ],
   "metadata": {
    "collapsed": false
   }
  },
  {
   "cell_type": "code",
   "execution_count": null,
   "outputs": [],
   "source": [],
   "metadata": {
    "collapsed": false,
    "pycharm": {
     "name": "#%%\n"
    }
   }
  },
  {
   "cell_type": "markdown",
   "source": [
    "* **mask**: matriz triangular inferior o superior.\n",
    "\n",
    "Para calcular matriz triangular.\n",
    "\n",
    "* *np.triu()*: matriz inferior.\n",
    "* *np.tril()*: matriz superior."
   ],
   "metadata": {
    "collapsed": false,
    "pycharm": {
     "name": "#%% md\n"
    }
   }
  },
  {
   "cell_type": "code",
   "execution_count": null,
   "outputs": [],
   "source": [],
   "metadata": {
    "collapsed": false,
    "pycharm": {
     "name": "#%%\n"
    }
   }
  },
  {
   "cell_type": "markdown",
   "source": [
    "### Categórica vs Continua\n",
    "* boxplot.\n",
    "* gráfico de violín.\n",
    "* histogramas superpuestos (se recomienda si la variable categórica tiene 3 o menos categorías)\n",
    "\n",
    "Tenemos dos escenarios:\n",
    "\n",
    "* Algunas variables independientes son númericas y nuestra **variable dependiente** es categórica. (Problemas de clasificación)\n",
    "\n",
    "* **Variable dependiente** es continua, y algunas variables independientes son categóricas. (Problemas de regresión)\n",
    "\n",
    "### Boxplot"
   ],
   "metadata": {
    "collapsed": false
   }
  },
  {
   "cell_type": "code",
   "execution_count": null,
   "outputs": [],
   "source": [],
   "metadata": {
    "collapsed": false,
    "pycharm": {
     "name": "#%%\n"
    }
   }
  },
  {
   "cell_type": "markdown",
   "source": [
    "* lower = q1 - 0.5 * iqr\n",
    "* upper = q3 + 0.5 * iqr"
   ],
   "metadata": {
    "collapsed": false
   }
  },
  {
   "cell_type": "code",
   "execution_count": null,
   "outputs": [],
   "source": [],
   "metadata": {
    "collapsed": false,
    "pycharm": {
     "name": "#%%\n"
    }
   }
  },
  {
   "cell_type": "markdown",
   "source": [
    "### Pointplots o gráficas de barras."
   ],
   "metadata": {
    "collapsed": false
   }
  },
  {
   "cell_type": "code",
   "execution_count": null,
   "outputs": [],
   "source": [],
   "metadata": {
    "collapsed": false,
    "pycharm": {
     "name": "#%%\n"
    }
   }
  },
  {
   "cell_type": "markdown",
   "source": [
    "### Categórica vs Categórica\n",
    "\n",
    "* heatmap de la tabla de contingencia.\n",
    "* gráficos de barras apiladas.\n",
    "\n",
    "Un escenario:\n",
    "\n",
    "* Algunas variables independientes categóricas y variable dependiente categórica.\n"
   ],
   "metadata": {
    "collapsed": false
   }
  }
 ]
}
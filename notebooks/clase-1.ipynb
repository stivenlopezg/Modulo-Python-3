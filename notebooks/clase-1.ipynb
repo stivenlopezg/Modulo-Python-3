{
 "cells": [
  {
   "cell_type": "markdown",
   "metadata": {
    "collapsed": true,
    "pycharm": {
     "name": "#%% md\n"
    }
   },
   "source": [
    "## ¿Cuándo usar Python?\n",
    "\n",
    "Python es un lenguaje bastante versátil. ¿Para qué aplicaciones puedes usar Python?\n",
    "\n",
    "* Cálculos rápidos.\n",
    "* Desarrollar un sitio web.\n",
    "* Limpiar y analizar resultados de una encuesta.\n",
    "\n",
    "### Python como calculadora\n",
    "\n",
    "Python está perfectamente adaptado para hacer cálculos básicos. Además de la suma, resta, multiplicación y división, también hay soporte para operaciones más avanzadas como:\n",
    "\n",
    "* **Exponenciación**: `**`. Este operador eleva el número a su izquierda a la potencia del número a su derecha. Por ejemplo `4 ** 2` le dará 16.\n",
    "\n",
    "* **Modulo**: `%`. Este operador devuelve el resto de la división del número de la izquierda por el número de la derecha. Por ejemplo `18 % 7` es igual 4."
   ]
  },
  {
   "cell_type": "code",
   "execution_count": null,
   "outputs": [],
   "source": [],
   "metadata": {
    "collapsed": false,
    "pycharm": {
     "name": "#%%\n"
    }
   }
  },
  {
   "cell_type": "markdown",
   "source": [
    "Podemos agregar comentarios a tus scripts de Python. Los comentarios son importantes para asegurarse de que usted y los demás puedan comprender de qué se trata su código."
   ],
   "metadata": {
    "collapsed": false,
    "pycharm": {
     "name": "#%% md\n"
    }
   }
  },
  {
   "cell_type": "code",
   "execution_count": null,
   "outputs": [],
   "source": [],
   "metadata": {
    "collapsed": false,
    "pycharm": {
     "name": "#%%\n"
    }
   }
  },
  {
   "cell_type": "markdown",
   "source": [
    "## Asignación de variables\n",
    "\n",
    "En Python, una variable le permite hacer referencia a un valor con un nombre. Para crear una variable uso `=`, por ejemplo, `name = \"Stiven\"`.\n",
    "\n",
    "**Nota**: En Python `=` significa _**asignación**_, no prueba igualdad."
   ],
   "metadata": {
    "collapsed": false,
    "pycharm": {
     "name": "#%% md\n"
    }
   }
  },
  {
   "cell_type": "code",
   "execution_count": null,
   "outputs": [],
   "source": [],
   "metadata": {
    "collapsed": false,
    "pycharm": {
     "name": "#%%\n"
    }
   }
  },
  {
   "cell_type": "markdown",
   "source": [
    "## Tipos de objetos\n",
    "\n",
    "* `int` o entero: número sin parte fraccionaria.\n",
    "* `float`: número que tiene una parte entera y fraccionaria, separadas por un punto.\n",
    "* `str`: tipo para representar texto.\n",
    "* `bool`: tipo para representar valores lógicos."
   ],
   "metadata": {
    "collapsed": false,
    "pycharm": {
     "name": "#%% md\n"
    }
   }
  },
  {
   "cell_type": "code",
   "execution_count": null,
   "outputs": [],
   "source": [],
   "metadata": {
    "collapsed": false,
    "pycharm": {
     "name": "#%%\n"
    }
   }
  },
  {
   "cell_type": "markdown",
   "source": [
    "# Veamos otros tipos de objetos\n",
    "\n",
    "El día de hoy vamos a ver otros objetos, diferentes a los que vimos en la clase anterior. Hoy vamos a hablar de:\n",
    "\n",
    "* listas\n",
    "* tuplas\n",
    "* diccionarios\n",
    "\n",
    "## Listas\n",
    "\n",
    "Una lista puede almacenar diferentes tipos de objetos, separados por coma (`,`) y se definen con corchetes `[]`."
   ],
   "metadata": {
    "collapsed": false,
    "pycharm": {
     "name": "#%% md\n"
    }
   }
  },
  {
   "cell_type": "code",
   "execution_count": null,
   "outputs": [],
   "source": [],
   "metadata": {
    "collapsed": false,
    "pycharm": {
     "name": "#%%\n"
    }
   }
  },
  {
   "cell_type": "markdown",
   "source": [
    "Vamos a crear una lista con tipos de datos diferentes."
   ],
   "metadata": {
    "collapsed": false,
    "pycharm": {
     "name": "#%% md\n"
    }
   }
  },
  {
   "cell_type": "code",
   "execution_count": null,
   "outputs": [],
   "source": [],
   "metadata": {
    "collapsed": false,
    "pycharm": {
     "name": "#%%\n"
    }
   }
  },
  {
   "cell_type": "markdown",
   "source": [
    "## Ejercicio 1.\n",
    "\n",
    "Seleccione la lista que considere correcta, ¿o hay varias?\n",
    "\n",
    "* `a = [1, 2, 4]`\n",
    "* `b = [[1, 2], ['hola', 2], 3]`\n",
    "* `c = [1 + 2, \"a\" * 5, 3]`\n",
    "* `d = []`"
   ],
   "metadata": {
    "collapsed": false,
    "pycharm": {
     "name": "#%% md\n"
    }
   }
  },
  {
   "cell_type": "code",
   "execution_count": null,
   "outputs": [],
   "source": [
    "res ="
   ],
   "metadata": {
    "collapsed": false,
    "pycharm": {
     "name": "#%%\n"
    }
   }
  },
  {
   "cell_type": "code",
   "source": [
    "if res == respuesta:\n",
    "  print(\"Excelente, has dado con la respuesta.\")\n",
    "else:\n",
    "  print(\"Oops, parece que te equivocaste. Vamos a intentarlo de nuevo.\")"
   ],
   "metadata": {
    "collapsed": false,
    "pycharm": {
     "name": "#%%\n"
    }
   },
   "execution_count": null,
   "outputs": []
  },
  {
   "cell_type": "markdown",
   "source": [
    "### Divide y vencerás\n",
    "\n",
    "Podemos tener subconjuntos de listas. Podemos acceder a un valor de la lista por el indice.\n",
    "\n",
    "**Nota**: Los indices en Python empiezan en cero (0)"
   ],
   "metadata": {
    "collapsed": false,
    "pycharm": {
     "name": "#%% md\n"
    }
   }
  },
  {
   "cell_type": "code",
   "execution_count": null,
   "outputs": [],
   "source": [],
   "metadata": {
    "collapsed": false,
    "pycharm": {
     "name": "#%%\n"
    }
   }
  },
  {
   "cell_type": "markdown",
   "source": [
    "Una vez que haya extraído valores de una lista, puede usarlos para realizar cálculos adicionales."
   ],
   "metadata": {
    "collapsed": false,
    "pycharm": {
     "name": "#%% md\n"
    }
   }
  },
  {
   "cell_type": "code",
   "execution_count": null,
   "outputs": [],
   "source": [],
   "metadata": {
    "collapsed": false,
    "pycharm": {
     "name": "#%%\n"
    }
   }
  },
  {
   "cell_type": "markdown",
   "source": [
    "Seleccionar valores individuales de una lista es solo una parte de la historia. También es posible dividir su lista, lo que significa seleccionar varios elementos de su lista. Utilice la siguiente sintaxis:\n",
    "\n",
    "`my_list[start:end]`"
   ],
   "metadata": {
    "collapsed": false,
    "pycharm": {
     "name": "#%% md\n"
    }
   }
  },
  {
   "cell_type": "code",
   "execution_count": null,
   "outputs": [],
   "source": [],
   "metadata": {
    "collapsed": false,
    "pycharm": {
     "name": "#%%\n"
    }
   }
  },
  {
   "cell_type": "markdown",
   "source": [
    "¿Podemos reemplazar valores en una lista? Si, podemos reemplazar los valores de una lista, dado que una lista es un objeto mutable."
   ],
   "metadata": {
    "collapsed": false,
    "pycharm": {
     "name": "#%% md\n"
    }
   }
  },
  {
   "cell_type": "code",
   "execution_count": null,
   "outputs": [],
   "source": [],
   "metadata": {
    "collapsed": false,
    "pycharm": {
     "name": "#%%\n"
    }
   }
  },
  {
   "cell_type": "markdown",
   "source": [
    "Ahora vamos a eliminar algunos valores de nuestra lista. Primero, lo vamos a hacer con una palabra reservada de Python, y después con un método de las listas."
   ],
   "metadata": {
    "collapsed": false,
    "pycharm": {
     "name": "#%% md\n"
    }
   }
  },
  {
   "cell_type": "code",
   "execution_count": null,
   "outputs": [],
   "source": [],
   "metadata": {
    "collapsed": false,
    "pycharm": {
     "name": "#%%\n"
    }
   }
  },
  {
   "cell_type": "markdown",
   "source": [
    "## Tuplas\n",
    "\n",
    "Las tuplas al igual que las listas son objetos indexables, que podemos separar con coma, y definimos con parentesis."
   ],
   "metadata": {
    "collapsed": false,
    "pycharm": {
     "name": "#%% md\n"
    }
   }
  },
  {
   "cell_type": "code",
   "execution_count": null,
   "outputs": [],
   "source": [],
   "metadata": {
    "collapsed": false,
    "pycharm": {
     "name": "#%%\n"
    }
   }
  },
  {
   "cell_type": "markdown",
   "source": [
    "## Diccionarios\n",
    "\n",
    "Son conjuntos de *clave* - *valor* no ordenados. La *clave* de un diccionario tiene que ser *inmutable* y *única* dentro del diccionario. Mientras que el *valor* puede ser cualquier objeto válido en Python.\n",
    "Se defininen entre llaves (`{}`), los conjuntos de clave-valor van separados por comas (`,`) y las claves van separadas de los valores por dos puntos (`:`).\n",
    "\n",
    "`my_dict = {\n",
    "   \"key1\":\"value1\",\n",
    "   \"key2\":\"value2\"}`"
   ],
   "metadata": {
    "collapsed": false,
    "pycharm": {
     "name": "#%% md\n"
    }
   }
  },
  {
   "cell_type": "code",
   "execution_count": null,
   "outputs": [],
   "source": [],
   "metadata": {
    "collapsed": false,
    "pycharm": {
     "name": "#%%\n"
    }
   }
  },
  {
   "cell_type": "markdown",
   "source": [
    "Si las claves de un diccionario se eligen sabiamente, acceder a los valores en un diccionario es fácil e intuitivo."
   ],
   "metadata": {
    "collapsed": false,
    "pycharm": {
     "name": "#%% md\n"
    }
   }
  },
  {
   "cell_type": "code",
   "execution_count": null,
   "outputs": [],
   "source": [],
   "metadata": {
    "collapsed": false,
    "pycharm": {
     "name": "#%%\n"
    }
   }
  },
  {
   "cell_type": "markdown",
   "source": [
    "El valor como se mencionó puede ser cualquier objeto de Python, por lo cual podemos modificarlo."
   ],
   "metadata": {
    "collapsed": false,
    "pycharm": {
     "name": "#%% md\n"
    }
   }
  },
  {
   "cell_type": "code",
   "execution_count": null,
   "outputs": [],
   "source": [],
   "metadata": {
    "collapsed": false,
    "pycharm": {
     "name": "#%%\n"
    }
   }
  },
  {
   "cell_type": "markdown",
   "source": [
    "¿Recuerdas las listas? Pueden contener cualquier cosa, incluso otras listas. Bueno, para los diccionarios se aplica lo mismo. Los diccionarios pueden contener pares clave: valor donde los valores son nuevamente diccionarios."
   ],
   "metadata": {
    "collapsed": false,
    "pycharm": {
     "name": "#%% md\n"
    }
   }
  },
  {
   "cell_type": "code",
   "execution_count": null,
   "outputs": [],
   "source": [],
   "metadata": {
    "collapsed": false,
    "pycharm": {
     "name": "#%%\n"
    }
   }
  }
 ],
 "metadata": {
  "kernelspec": {
   "display_name": "Python 3",
   "language": "python",
   "name": "python3"
  },
  "language_info": {
   "codemirror_mode": {
    "name": "ipython",
    "version": 2
   },
   "file_extension": ".py",
   "mimetype": "text/x-python",
   "name": "python",
   "nbconvert_exporter": "python",
   "pygments_lexer": "ipython2",
   "version": "2.7.6"
  }
 },
 "nbformat": 4,
 "nbformat_minor": 0
}
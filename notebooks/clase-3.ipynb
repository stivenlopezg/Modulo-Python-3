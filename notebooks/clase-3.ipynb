{
 "cells": [
  {
   "cell_type": "markdown",
   "metadata": {
    "collapsed": true,
    "pycharm": {
     "name": "#%% md\n"
    }
   },
   "source": [
    "## Carga de módulos (Librerías)"
   ]
  },
  {
   "cell_type": "code",
   "execution_count": null,
   "outputs": [],
   "source": [],
   "metadata": {
    "collapsed": false,
    "pycharm": {
     "name": "#%%\n"
    }
   }
  },
  {
   "cell_type": "markdown",
   "metadata": {
    "pycharm": {
     "name": "#%% md\n"
    }
   },
   "source": [
    "### Inspeccionar un DataFrame\n",
    "\n",
    "Cuando tiene un DataFrame para trabajar, lo primero que debemos hacer es explorarlo y ver que contiene. Hay varios métodos y atributos para esto:\n",
    "\n",
    "* **.head()** devuelve las primeras filas del DataFrame\n",
    "* **.info()** muestra información sobre cada una de las columnas, como el tipo de datos y el número de valores missing (nulos).\n",
    "* **.shape** devuelve una tupla con el número de filas y columnas del DataFrame\n",
    "* **.describe()** calcula algunas estadísticas de resumen para cada columna."
   ]
  },
  {
   "cell_type": "code",
   "execution_count": null,
   "outputs": [],
   "source": [],
   "metadata": {
    "collapsed": false,
    "pycharm": {
     "name": "#%%\n"
    }
   }
  },
  {
   "cell_type": "markdown",
   "metadata": {
    "pycharm": {
     "name": "#%% md\n"
    }
   },
   "source": [
    "El conjunto de datos tiene 11 variables y 15000 registros, donde estas variables son:\n",
    "\n",
    "* *PatientID*: El ID del paciente.\n",
    "* *Pregnancies*: El número de embarazos.\n",
    "* *PlasmaGlucose*: Concentración de glucosa a 2 horas, en una prueba de tolerancia oral a la glucosa.\n",
    "* *DiastolicBloodPressure*: Presión arterial diastólica.\n",
    "* *TricepsThickness*: Espesor del pliegue cutaneo del triceps.\n",
    "* *SerumInsulin*: Insulina Sérica de dos horas.\n",
    "* *BMI*: Indice de masa corporal.\n",
    "* *DiabetesPedigree*: Función pedigree de la diabetes.\n",
    "* *Age*: Edad expresada en años.\n",
    "* *Diabetic*: Si la persona tiene diabetes o no (Si=1, No=0).\n",
    "\n",
    "### Partes de un DataFrame\n",
    "\n",
    "Es útil saber que los DataFrames constan de tres componentes, almacenados como atributos:\n",
    "\n",
    "* **.values**: Una matriz de valores *Numpy* bidimensional.\n",
    "* **.columns**: Un índice de columnas: los nombres de las columnas.\n",
    "* **.index**: Un índice para las filas: números de fila o nombres de fila."
   ]
  },
  {
   "cell_type": "code",
   "execution_count": null,
   "outputs": [],
   "source": [],
   "metadata": {
    "collapsed": false,
    "pycharm": {
     "name": "#%%\n"
    }
   }
  },
  {
   "cell_type": "markdown",
   "metadata": {
    "pycharm": {
     "name": "#%% md\n"
    }
   },
   "source": [
    "### Ordenar filas\n",
    "\n",
    "Para entender un poco más los datos, podemos ordenar las filas usando el método **.sort_values()**."
   ]
  },
  {
   "cell_type": "code",
   "execution_count": null,
   "outputs": [],
   "source": [],
   "metadata": {
    "collapsed": false,
    "pycharm": {
     "name": "#%%\n"
    }
   }
  },
  {
   "cell_type": "markdown",
   "metadata": {
    "pycharm": {
     "name": "#%% md\n"
    }
   },
   "source": [
    "### Seleccionar columnas\n",
    "\n",
    "En muchas ocasiones no necesitará todas las variables en su set de datos, o incluso experimentará con unas pocas. Los corchetes (**[]**) se pueden utilizar para seleccionar solo las columnas de interés. Por ejemplo, para seleccionar la columna `salary` del DataFrame `data`, puede hacer lo siguiente: `data[\"salary\"]`"
   ]
  },
  {
   "cell_type": "code",
   "execution_count": null,
   "outputs": [],
   "source": [
    "\n"
   ],
   "metadata": {
    "collapsed": false,
    "pycharm": {
     "name": "#%%\n"
    }
   }
  },
  {
   "cell_type": "markdown",
   "metadata": {
    "pycharm": {
     "name": "#%% md\n"
    }
   },
   "source": [
    "### Seleccionar filas\n",
    "\n",
    "Para encontrar un subconjunto de filas que coincida con algún criterio, quizás la forma más común es usar operadores lógicosque devuelvan **True** o **False** para cada fila, y luego pasarlo entre corchetes."
   ]
  },
  {
   "cell_type": "code",
   "execution_count": null,
   "outputs": [],
   "source": [
    "\n"
   ],
   "metadata": {
    "collapsed": false,
    "pycharm": {
     "name": "#%%\n"
    }
   }
  },
  {
   "cell_type": "markdown",
   "metadata": {
    "pycharm": {
     "name": "#%% md\n"
    }
   },
   "source": [
    "### Agregar nuevas columnas\n",
    "\n",
    "Una de las prácticas más comunes es agregar nuevas columnas a un DataFrame. Esta etapa en el proceso de construir un modelo usando algoritmos de Machine Learning o estadísticos se llama ingeniería de características.\n",
    "\n",
    "Podemos crear columnas desde cero, o derivarla de otra columna, por ejemplo, agregando columnas o cambiando sus unidades."
   ]
  },
  {
   "cell_type": "code",
   "execution_count": null,
   "outputs": [],
   "source": [],
   "metadata": {
    "collapsed": false,
    "pycharm": {
     "name": "#%%\n"
    }
   }
  },
  {
   "cell_type": "markdown",
   "source": [
    "### Estadísticas descriptivas\n",
    "\n",
    "Puede utilizar diferentes métodos como:\n",
    "\n",
    "* **.mean()**\n",
    "* **.median()**\n",
    "* **.min()**\n",
    "* **.max()**\n",
    "* **.quantile()**\n",
    "\n",
    "Y muchos otros más para calcular estadísticas sobre los datos, sin embargo, en algunos casos necesitará crear sus propias funciones personalizadas. Para esto el método **.agg()** le permite aplicar sus propias funciones personalizadas a un DataFrame, así como también aplicar funciones a más de una columna, lo que hace que sus agregaciones sean más eficientes."
   ],
   "metadata": {
    "collapsed": false
   }
  },
  {
   "cell_type": "code",
   "execution_count": null,
   "outputs": [],
   "source": [],
   "metadata": {
    "collapsed": false,
    "pycharm": {
     "name": "#%%\n"
    }
   }
  },
  {
   "cell_type": "markdown",
   "metadata": {
    "pycharm": {
     "name": "#%% md\n"
    }
   },
   "source": [
    "### Eliminar datos duplicados\n",
    "\n",
    "Cuando queremos ver si hay datos duplicados, dos métodos interesantes son:\n",
    "\n",
    "* **.duplicated()**\n",
    "* **.drop_duplicates()**\n",
    "\n",
    "Ambos métodos comparten dos argumentos muy importantes, el primero es *subset* que considera solo las columnas que se le pasen para buscar datos duplicados; el segundo es *keep* que determina que duplicado dejar o eliminar."
   ]
  },
  {
   "cell_type": "code",
   "execution_count": null,
   "outputs": [],
   "source": [],
   "metadata": {
    "collapsed": false,
    "pycharm": {
     "name": "#%%\n"
    }
   }
  },
  {
   "cell_type": "markdown",
   "metadata": {
    "pycharm": {
     "name": "#%% md\n"
    }
   },
   "source": [
    "### Agrupaciones\n",
    "\n",
    "Podemos hacer agrupaciones usando el método **.groupby()**, donde el primer argumento es *by* que recibe un str o una lista de las columnas por las cuales se desea agrupar."
   ]
  },
  {
   "cell_type": "code",
   "execution_count": null,
   "outputs": [],
   "source": [],
   "metadata": {
    "collapsed": false,
    "pycharm": {
     "name": "#%%\n"
    }
   }
  },
  {
   "cell_type": "markdown",
   "metadata": {
    "pycharm": {
     "name": "#%% md\n"
    }
   },
   "source": [
    "### Tablas dínamicas\n",
    "\n",
    "Otra forma de calcular estadísticas agrupadas son las tablas dínamicas. Algunos argumentos interesantes son:\n",
    "\n",
    "* **values** es la columna que desea resumir.\n",
    "* **index** es la columna por la que desea agrupar.\n",
    "* **aggfunc** como se quiere agregar (por ejemplo, mediana)\n",
    "\n",
    "\n",
    "**Nota**:\n",
    "\n",
    "* De forma predeterminada el método **.pivot_table()** toma el valor medio para cada grupo.\n",
    "* Para agrupar por dos variables, podemos pasar un segundo nombre de variable al argumento **columns**.\n",
    "* En caso de tener valores missing, podemos completarlos (imputarlos) usando el argumento **fill_value**."
   ]
  },
  {
   "cell_type": "code",
   "execution_count": null,
   "outputs": [],
   "source": [],
   "metadata": {
    "collapsed": false,
    "pycharm": {
     "name": "#%%\n"
    }
   }
  },
  {
   "cell_type": "markdown",
   "metadata": {
    "pycharm": {
     "name": "#%% md\n"
    }
   },
   "source": [
    "### Trabajar con index\n",
    "\n",
    "Como se ha mencionado, una parte importante de los DataFrames son los index, que por lo general es un valor númerico de 0 a *n-1*, donde *n* es el número de observaciones totales en el DataFrame.\n",
    "\n",
    "Sin embargo, podemos mover una columna del cuerpo del DataFrame al índice, de la siguiente forma:\n",
    "\n",
    "* **set_index(column_name)**\n",
    "\n",
    "También puede tener varios índices, solo debemos pasar una lista sobre el método **set_index()**. Y para restablecer al DataFrame original,\n",
    "\n",
    "* **reset_index()**\n",
    "\n",
    "Adicional, el método **reset_index()** tiene un argumento drop que le permite eliminar el índice."
   ]
  },
  {
   "cell_type": "code",
   "execution_count": null,
   "outputs": [],
   "source": [],
   "metadata": {
    "collapsed": false,
    "pycharm": {
     "name": "#%%\n"
    }
   }
  },
  {
   "cell_type": "markdown",
   "metadata": {
    "pycharm": {
     "name": "#%% md\n"
    }
   },
   "source": [
    "### Unir datos (merge)\n",
    "\n",
    "En muchas ocasiones tendremos diferentes archivos planos, y para analizar lo que me interesa debo unir los diferentes archivos.\n",
    "\n"
   ]
  }
 ],
 "metadata": {
  "kernelspec": {
   "display_name": "Python 3",
   "language": "python",
   "name": "python3"
  },
  "language_info": {
   "codemirror_mode": {
    "name": "ipython",
    "version": 3
   },
   "file_extension": ".py",
   "mimetype": "text/x-python",
   "name": "python",
   "nbconvert_exporter": "python",
   "pygments_lexer": "ipython3",
   "version": "3.7.3"
  }
 },
 "nbformat": 4,
 "nbformat_minor": 1
}